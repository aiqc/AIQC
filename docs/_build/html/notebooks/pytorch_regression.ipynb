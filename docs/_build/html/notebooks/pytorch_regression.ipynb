{
 "cells": [
  {
   "cell_type": "markdown",
   "id": "million-fifteen",
   "metadata": {},
   "source": [
    "# PyTorch: Regression"
   ]
  },
  {
   "cell_type": "markdown",
   "id": "connected-criticism",
   "metadata": {},
   "source": [
    "![houses](../images/houses.png)"
   ]
  },
  {
   "cell_type": "code",
   "execution_count": 2,
   "id": "dental-registrar",
   "metadata": {},
   "outputs": [],
   "source": [
    "import torch\n",
    "import torch.nn as nn\n",
    "from torch import optim\n",
    "import torchmetrics\n",
    "\n",
    "from sklearn.preprocessing import StandardScaler, PowerTransformer, OrdinalEncoder\n",
    "\n",
    "import aiqc\n",
    "from aiqc import datum"
   ]
  },
  {
   "cell_type": "markdown",
   "id": "conscious-render",
   "metadata": {},
   "source": [
    "---"
   ]
  },
  {
   "cell_type": "markdown",
   "id": "built-spread",
   "metadata": {},
   "source": [
    "## Example Data"
   ]
  },
  {
   "cell_type": "markdown",
   "id": "architectural-nirvana",
   "metadata": {},
   "source": [
    "Reference [Example Datasets](example_datasets.ipynb) for more information."
   ]
  },
  {
   "cell_type": "code",
   "execution_count": 3,
   "id": "dimensional-davis",
   "metadata": {},
   "outputs": [],
   "source": [
    "df = datum.to_pandas('houses.csv')"
   ]
  },
  {
   "cell_type": "code",
   "execution_count": 4,
   "id": "sound-infection",
   "metadata": {},
   "outputs": [
    {
     "data": {
      "text/html": [
       "<div>\n",
       "<style scoped>\n",
       "    .dataframe tbody tr th:only-of-type {\n",
       "        vertical-align: middle;\n",
       "    }\n",
       "\n",
       "    .dataframe tbody tr th {\n",
       "        vertical-align: top;\n",
       "    }\n",
       "\n",
       "    .dataframe thead th {\n",
       "        text-align: right;\n",
       "    }\n",
       "</style>\n",
       "<table border=\"1\" class=\"dataframe\">\n",
       "  <thead>\n",
       "    <tr style=\"text-align: right;\">\n",
       "      <th></th>\n",
       "      <th>crim</th>\n",
       "      <th>zn</th>\n",
       "      <th>indus</th>\n",
       "      <th>chas</th>\n",
       "      <th>nox</th>\n",
       "      <th>rm</th>\n",
       "      <th>age</th>\n",
       "      <th>dis</th>\n",
       "      <th>rad</th>\n",
       "      <th>tax</th>\n",
       "      <th>ptratio</th>\n",
       "      <th>lstat</th>\n",
       "      <th>price</th>\n",
       "    </tr>\n",
       "  </thead>\n",
       "  <tbody>\n",
       "    <tr>\n",
       "      <th>0</th>\n",
       "      <td>0.00632</td>\n",
       "      <td>18.0</td>\n",
       "      <td>2.31</td>\n",
       "      <td>0</td>\n",
       "      <td>0.538</td>\n",
       "      <td>6.575</td>\n",
       "      <td>65.2</td>\n",
       "      <td>4.0900</td>\n",
       "      <td>1</td>\n",
       "      <td>296</td>\n",
       "      <td>15.3</td>\n",
       "      <td>4.98</td>\n",
       "      <td>24.0</td>\n",
       "    </tr>\n",
       "    <tr>\n",
       "      <th>1</th>\n",
       "      <td>0.02731</td>\n",
       "      <td>0.0</td>\n",
       "      <td>7.07</td>\n",
       "      <td>0</td>\n",
       "      <td>0.469</td>\n",
       "      <td>6.421</td>\n",
       "      <td>78.9</td>\n",
       "      <td>4.9671</td>\n",
       "      <td>2</td>\n",
       "      <td>242</td>\n",
       "      <td>17.8</td>\n",
       "      <td>9.14</td>\n",
       "      <td>21.6</td>\n",
       "    </tr>\n",
       "    <tr>\n",
       "      <th>2</th>\n",
       "      <td>0.02729</td>\n",
       "      <td>0.0</td>\n",
       "      <td>7.07</td>\n",
       "      <td>0</td>\n",
       "      <td>0.469</td>\n",
       "      <td>7.185</td>\n",
       "      <td>61.1</td>\n",
       "      <td>4.9671</td>\n",
       "      <td>2</td>\n",
       "      <td>242</td>\n",
       "      <td>17.8</td>\n",
       "      <td>4.03</td>\n",
       "      <td>34.7</td>\n",
       "    </tr>\n",
       "    <tr>\n",
       "      <th>3</th>\n",
       "      <td>0.03237</td>\n",
       "      <td>0.0</td>\n",
       "      <td>2.18</td>\n",
       "      <td>0</td>\n",
       "      <td>0.458</td>\n",
       "      <td>6.998</td>\n",
       "      <td>45.8</td>\n",
       "      <td>6.0622</td>\n",
       "      <td>3</td>\n",
       "      <td>222</td>\n",
       "      <td>18.7</td>\n",
       "      <td>2.94</td>\n",
       "      <td>33.4</td>\n",
       "    </tr>\n",
       "    <tr>\n",
       "      <th>4</th>\n",
       "      <td>0.06905</td>\n",
       "      <td>0.0</td>\n",
       "      <td>2.18</td>\n",
       "      <td>0</td>\n",
       "      <td>0.458</td>\n",
       "      <td>7.147</td>\n",
       "      <td>54.2</td>\n",
       "      <td>6.0622</td>\n",
       "      <td>3</td>\n",
       "      <td>222</td>\n",
       "      <td>18.7</td>\n",
       "      <td>5.33</td>\n",
       "      <td>36.2</td>\n",
       "    </tr>\n",
       "  </tbody>\n",
       "</table>\n",
       "</div>"
      ],
      "text/plain": [
       "      crim    zn  indus  chas    nox     rm   age     dis  rad  tax  ptratio  \\\n",
       "0  0.00632  18.0   2.31     0  0.538  6.575  65.2  4.0900    1  296     15.3   \n",
       "1  0.02731   0.0   7.07     0  0.469  6.421  78.9  4.9671    2  242     17.8   \n",
       "2  0.02729   0.0   7.07     0  0.469  7.185  61.1  4.9671    2  242     17.8   \n",
       "3  0.03237   0.0   2.18     0  0.458  6.998  45.8  6.0622    3  222     18.7   \n",
       "4  0.06905   0.0   2.18     0  0.458  7.147  54.2  6.0622    3  222     18.7   \n",
       "\n",
       "   lstat  price  \n",
       "0   4.98   24.0  \n",
       "1   9.14   21.6  \n",
       "2   4.03   34.7  \n",
       "3   2.94   33.4  \n",
       "4   5.33   36.2  "
      ]
     },
     "execution_count": 4,
     "metadata": {},
     "output_type": "execute_result"
    }
   ],
   "source": [
    "df.head()"
   ]
  },
  {
   "cell_type": "markdown",
   "id": "wicked-negotiation",
   "metadata": {},
   "source": [
    "---"
   ]
  },
  {
   "cell_type": "markdown",
   "id": "heard-failure",
   "metadata": {},
   "source": [
    "## a) High-Level API"
   ]
  },
  {
   "cell_type": "markdown",
   "id": "institutional-highlight",
   "metadata": {},
   "source": [
    "Reference [High-Level API Docs](api_high_level.ipynb) for more information including how to work with non-tabular data."
   ]
  },
  {
   "cell_type": "code",
   "execution_count": 5,
   "id": "subjective-restaurant",
   "metadata": {},
   "outputs": [
    {
     "name": "stdout",
     "output_type": "stream",
     "text": [
      "\n",
      "___/ featurecoder_index: 0 \\_________\n",
      "\n",
      "=> The column(s) below matched your filter(s) and were ran through a test-encoding successfully.\n",
      "['crim', 'zn', 'indus', 'nox', 'rm', 'age', 'dis', 'ptratio', 'lstat']\n",
      "\n",
      "=> The remaining column(s) and dtype(s) can be used in downstream Featurecoder(s):\n",
      "{'chas': 'int64', 'rad': 'int64', 'tax': 'int64'}\n",
      "\n",
      "\n",
      "___/ featurecoder_index: 1 \\_________\n",
      "\n",
      "=> The column(s) below matched your filter(s) and were ran through a test-encoding successfully.\n",
      "['chas', 'rad', 'tax']\n",
      "\n",
      "=> Nice! Now all feature column(s) have encoder(s) associated with them.\n",
      "No more Featurecoders can be added to this Encoderset.\n",
      "\n"
     ]
    }
   ],
   "source": [
    "splitset = aiqc.Pipeline.Tabular.make(\n",
    "    dataFrame_or_filePath = df\n",
    "    , label_column = 'price'\n",
    "    , size_test = 0.18\n",
    "    , size_validation = 0.12\n",
    "    , label_encoder = PowerTransformer(method='box-cox', copy=False)\n",
    "    , feature_encoders = [\n",
    "        {\n",
    "            \"sklearn_preprocess\": StandardScaler(copy=False)\n",
    "            , \"dtypes\": ['float64']\n",
    "        },\n",
    "        {\n",
    "            \"sklearn_preprocess\": OrdinalEncoder()\n",
    "            , \"dtypes\": ['int64']\n",
    "        }\n",
    "    ]\n",
    "    \n",
    "    , dtype = None\n",
    "    , features_excluded = None\n",
    "    , fold_count = None\n",
    "    , bin_count = None\n",
    ")"
   ]
  },
  {
   "cell_type": "code",
   "execution_count": 6,
   "id": "concrete-locking",
   "metadata": {},
   "outputs": [],
   "source": [
    "def fn_build(features_shape, labels_shape, **hp):\n",
    "    # Just giving hyperparameter a shorter reference.\n",
    "    nc = hp['neuron_count']\n",
    "\n",
    "    model = nn.Sequential(\n",
    "        nn.Linear(features_shape[0], nc),\n",
    "        nn.BatchNorm1d(nc,nc),\n",
    "        nn.ReLU(),\n",
    "        nn.Dropout(p=0.4),\n",
    "\n",
    "        nn.Linear(nc, nc),\n",
    "        nn.BatchNorm1d(nc,nc),\n",
    "        nn.ReLU(),\n",
    "        nn.Dropout(p=0.4),\n",
    "\n",
    "        nn.Linear(nc, labels_shape[0])\n",
    "    )\n",
    "    return model"
   ]
  },
  {
   "cell_type": "code",
   "execution_count": 7,
   "id": "recorded-college",
   "metadata": {},
   "outputs": [],
   "source": [
    "def fn_train(model, loser, optimizer, samples_train, samples_evaluate, **hp):\n",
    "    from torchmetrics.functional import explained_variance as expVar\n",
    "    ## --- Prepare mini batches for analysis ---\n",
    "    batched_features, batched_labels = aiqc.torch_batcher(\n",
    "        samples_train['features'], samples_train['labels'],\n",
    "        batch_size=5, enforce_sameSize=False, allow_1Sample=False\n",
    "    )\n",
    "\n",
    "    # Modeled after `keras.model.History.history` object.\n",
    "    history = {\n",
    "        'loss':list(), 'expVar': list(), \n",
    "        'val_loss':list(), 'val_expVar':list()\n",
    "    }\n",
    "\n",
    "    ## --- Training loop ---\n",
    "    epochs = 75\n",
    "    for epoch in range(epochs):\n",
    "        # --- Batch training ---\n",
    "        for i, batch in enumerate(batched_features):      \n",
    "            # Make raw (unlabeled) predictions.\n",
    "            batch_probability = model(batched_features[i])\n",
    "            batch_flat_labels = batched_labels[i].flatten()\n",
    "            #batch_loss = loser(batch_probability, batch_flat_labels)\n",
    "            batch_loss = loser(batch_probability.flatten(), batch_flat_labels)\n",
    "            # Backpropagation.\n",
    "            optimizer.zero_grad()\n",
    "            batch_loss.backward()\n",
    "            optimizer.step()\n",
    "\n",
    "        ## --- Epoch metrics ---\n",
    "        # Overall performance on training data.\n",
    "        train_probability = model(samples_train['features'])\n",
    "        train_flat_labels = samples_train['labels'].flatten()\n",
    "        train_loss = loser(train_probability.flatten(), train_flat_labels)\n",
    "        train_expVar = expVar(train_probability, samples_train['labels'])\n",
    "        history['loss'].append(float(train_loss))\n",
    "        history['expVar'].append(float(train_expVar))\n",
    "\n",
    "        # Performance on evaluation data.\n",
    "        eval_probability = model(samples_evaluate['features'])\n",
    "        eval_flat_labels = samples_evaluate['labels'].flatten()\n",
    "        eval_loss = loser(eval_probability.flatten(), eval_flat_labels)\n",
    "\n",
    "        eval_expVar = expVar(eval_probability, samples_evaluate['labels'])    \n",
    "        history['val_loss'].append(float(eval_loss))\n",
    "        history['val_expVar'].append(float(eval_expVar))\n",
    "    return model, history"
   ]
  },
  {
   "cell_type": "markdown",
   "id": "female-excitement",
   "metadata": {},
   "source": [
    "Optional, will be automatically selected based on `analysis_type` if left as `None`."
   ]
  },
  {
   "cell_type": "code",
   "execution_count": 8,
   "id": "unlike-appliance",
   "metadata": {},
   "outputs": [],
   "source": [
    "def fn_lose(**hp):\n",
    "    if (hp['loss_type'] == 'mae'):\n",
    "        loser = nn.L1Loss()#mean absolute error.\n",
    "    elif (hp['loss_type'] == 'mse'):\n",
    "        loser = nn.MSELoss()\n",
    "    return loser"
   ]
  },
  {
   "cell_type": "code",
   "execution_count": 9,
   "id": "vocal-knock",
   "metadata": {},
   "outputs": [],
   "source": [
    "hyperparameters = {\n",
    "    \"neuron_count\": [22,24]\n",
    "    , \"loss_type\": [\"mae\",\"mse\"]\n",
    "}"
   ]
  },
  {
   "cell_type": "code",
   "execution_count": 10,
   "id": "angry-maker",
   "metadata": {},
   "outputs": [],
   "source": [
    "queue = aiqc.Experiment.make(\n",
    "    library = \"pytorch\"\n",
    "    , analysis_type = \"regression\"\n",
    "    , fn_build = fn_build\n",
    "    , fn_train = fn_train\n",
    "    , splitset_id = splitset.id\n",
    "    , encoderset_id = splitset.encodersets[0]\n",
    "    , repeat_count = 1\n",
    "    , hide_test = False\n",
    "    , hyperparameters = hyperparameters\n",
    "    \n",
    "    , fn_lose = fn_lose #optional/ automated\n",
    "    , fn_optimize = None #optional/ automated\n",
    "    , fn_predict = None #optional/ automated\n",
    "    , foldset_id = None\n",
    ")"
   ]
  },
  {
   "cell_type": "code",
   "execution_count": 11,
   "id": "floating-baseline",
   "metadata": {},
   "outputs": [
    {
     "name": "stderr",
     "output_type": "stream",
     "text": [
      "🔮 Training Models 🔮: 100%|██████████████████████████████████████████| 4/4 [00:41<00:00, 10.47s/it]\n"
     ]
    }
   ],
   "source": [
    "queue.run_jobs()"
   ]
  },
  {
   "cell_type": "markdown",
   "id": "mineral-attachment",
   "metadata": {},
   "source": [
    "For more information on visualization of performance metrics, reference the [Visualization & Metrics](visualization.html) documentation."
   ]
  },
  {
   "cell_type": "markdown",
   "id": "funky-warren",
   "metadata": {},
   "source": [
    "---"
   ]
  },
  {
   "cell_type": "markdown",
   "id": "funded-distribution",
   "metadata": {},
   "source": [
    "## b) Low-Level API"
   ]
  },
  {
   "cell_type": "markdown",
   "id": "liberal-international",
   "metadata": {},
   "source": [
    "Reference [Low-Level API Docs](api_high_level.ipynb) for more information including how to work with non-tabular data, and defining an optimizer."
   ]
  },
  {
   "cell_type": "code",
   "execution_count": 12,
   "id": "sized-volume",
   "metadata": {},
   "outputs": [],
   "source": [
    "dataset = aiqc.Dataset.Tabular.from_pandas(df)"
   ]
  },
  {
   "cell_type": "code",
   "execution_count": 13,
   "id": "varied-measure",
   "metadata": {},
   "outputs": [],
   "source": [
    "label_column = 'price'"
   ]
  },
  {
   "cell_type": "code",
   "execution_count": 14,
   "id": "similar-colon",
   "metadata": {},
   "outputs": [],
   "source": [
    "label = dataset.make_label(columns=[label_column])"
   ]
  },
  {
   "cell_type": "code",
   "execution_count": 15,
   "id": "offshore-beauty",
   "metadata": {},
   "outputs": [],
   "source": [
    "featureset = dataset.make_featureset(exclude_columns=[label_column])"
   ]
  },
  {
   "cell_type": "code",
   "execution_count": 16,
   "id": "funky-trauma",
   "metadata": {},
   "outputs": [],
   "source": [
    "splitset = featureset.make_splitset(\n",
    "    label_id = label.id\n",
    "    , size_test = 0.18\n",
    "    , size_validation = 0.12\n",
    ")"
   ]
  },
  {
   "cell_type": "code",
   "execution_count": 17,
   "id": "attached-combine",
   "metadata": {},
   "outputs": [],
   "source": [
    "encoderset = splitset.make_encoderset()"
   ]
  },
  {
   "cell_type": "code",
   "execution_count": 18,
   "id": "smooth-pollution",
   "metadata": {},
   "outputs": [],
   "source": [
    "labelcoder = encoderset.make_labelcoder(\n",
    "    sklearn_preprocess = PowerTransformer(method='box-cox', copy=False)\n",
    ")"
   ]
  },
  {
   "cell_type": "code",
   "execution_count": 19,
   "id": "wanted-runner",
   "metadata": {},
   "outputs": [
    {
     "name": "stdout",
     "output_type": "stream",
     "text": [
      "\n",
      "___/ featurecoder_index: 0 \\_________\n",
      "\n",
      "=> The column(s) below matched your filter(s) and were ran through a test-encoding successfully.\n",
      "['crim', 'zn', 'indus', 'nox', 'rm', 'age', 'dis', 'ptratio', 'lstat']\n",
      "\n",
      "=> The remaining column(s) and dtype(s) can be used in downstream Featurecoder(s):\n",
      "{'chas': 'int64', 'rad': 'int64', 'tax': 'int64'}\n",
      "\n"
     ]
    }
   ],
   "source": [
    "featurecoder_0 = encoderset.make_featurecoder(\n",
    "    sklearn_preprocess = StandardScaler(copy=False)\n",
    "    , dtypes = ['float64']\n",
    ")"
   ]
  },
  {
   "cell_type": "code",
   "execution_count": 20,
   "id": "nearby-forwarding",
   "metadata": {},
   "outputs": [],
   "source": [
    "def fn_build(features_shape, labels_shape, **hp):\n",
    "    # Just giving hyperparameter a shorter reference.\n",
    "    nc = hp['neuron_count']\n",
    "\n",
    "    model = nn.Sequential(\n",
    "        nn.Linear(features_shape[0], nc),\n",
    "        nn.BatchNorm1d(nc,nc),\n",
    "        nn.ReLU(),\n",
    "        nn.Dropout(p=0.4),\n",
    "\n",
    "        nn.Linear(nc, nc),\n",
    "        nn.BatchNorm1d(nc,nc),\n",
    "        nn.ReLU(),\n",
    "        nn.Dropout(p=0.4),\n",
    "\n",
    "        nn.Linear(nc, labels_shape[0])\n",
    "    )\n",
    "    return model"
   ]
  },
  {
   "cell_type": "code",
   "execution_count": 21,
   "id": "physical-folks",
   "metadata": {},
   "outputs": [],
   "source": [
    "def fn_train(model, loser, optimizer, samples_train, samples_evaluate, **hp):\n",
    "    from torchmetrics.functional import explained_variance as expVar\n",
    "    ## --- Prepare mini batches for analysis ---\n",
    "    batched_features, batched_labels = aiqc.torch_batcher(\n",
    "        samples_train['features'], samples_train['labels'],\n",
    "        batch_size=5, enforce_sameSize=False, allow_1Sample=False\n",
    "    )\n",
    "\n",
    "    # Modeled after `keras.model.History.history` object.\n",
    "    history = {\n",
    "        'loss':list(), 'expVar': list(), \n",
    "        'val_loss':list(), 'val_expVar':list()\n",
    "    }\n",
    "\n",
    "    ## --- Training loop ---\n",
    "    epochs = 75\n",
    "    for epoch in range(epochs):\n",
    "        # --- Batch training ---\n",
    "        for i, batch in enumerate(batched_features):      \n",
    "            # Make raw (unlabeled) predictions.\n",
    "            batch_probability = model(batched_features[i])\n",
    "            batch_flat_labels = batched_labels[i].flatten()\n",
    "            #batch_loss = loser(batch_probability, batch_flat_labels)\n",
    "            batch_loss = loser(batch_probability.flatten(), batch_flat_labels)\n",
    "            # Backpropagation.\n",
    "            optimizer.zero_grad()\n",
    "            batch_loss.backward()\n",
    "            optimizer.step()\n",
    "\n",
    "        ## --- Epoch metrics ---\n",
    "        # Overall performance on training data.\n",
    "        train_probability = model(samples_train['features'])\n",
    "        train_flat_labels = samples_train['labels'].flatten()\n",
    "        train_loss = loser(train_probability.flatten(), train_flat_labels)\n",
    "        train_expVar = expVar(train_probability, samples_train['labels'])\n",
    "        history['loss'].append(float(train_loss))\n",
    "        history['expVar'].append(float(train_expVar))\n",
    "\n",
    "        # Performance on evaluation data.\n",
    "        eval_probability = model(samples_evaluate['features'])\n",
    "        eval_flat_labels = samples_evaluate['labels'].flatten()\n",
    "        eval_loss = loser(eval_probability.flatten(), eval_flat_labels)\n",
    "\n",
    "        eval_expVar = expVar(eval_probability, samples_evaluate['labels'])    \n",
    "        history['val_loss'].append(float(eval_loss))\n",
    "        history['val_expVar'].append(float(eval_expVar))\n",
    "    return model, history"
   ]
  },
  {
   "cell_type": "markdown",
   "id": "retained-morrison",
   "metadata": {},
   "source": [
    "Optional, will be automatically selected based on `analysis_type` if left as `None`."
   ]
  },
  {
   "cell_type": "code",
   "execution_count": 22,
   "id": "smooth-lesbian",
   "metadata": {},
   "outputs": [],
   "source": [
    "def fn_lose(**hp):\n",
    "    if (hp['loss_type'] == 'mae'):\n",
    "        loser = nn.L1Loss()#mean absolute error.\n",
    "    elif (hp['loss_type'] == 'mse'):\n",
    "        loser = nn.MSELoss()\n",
    "    return loser"
   ]
  },
  {
   "cell_type": "code",
   "execution_count": 23,
   "id": "interim-petersburg",
   "metadata": {},
   "outputs": [],
   "source": [
    "algorithm = aiqc.Algorithm.make(\n",
    "    library = \"pytorch\"\n",
    "    , analysis_type = \"regression\"\n",
    "    , fn_build = fn_build\n",
    "    , fn_train = fn_train\n",
    "    , fn_lose = fn_lose\n",
    ")"
   ]
  },
  {
   "cell_type": "code",
   "execution_count": 24,
   "id": "desperate-diameter",
   "metadata": {},
   "outputs": [],
   "source": [
    "hyperparameters = {\n",
    "    \"neuron_count\": [22,24]\n",
    "    , \"loss_type\": [\"mae\",\"mse\"]\n",
    "}"
   ]
  },
  {
   "cell_type": "code",
   "execution_count": 25,
   "id": "complimentary-radiation",
   "metadata": {},
   "outputs": [],
   "source": [
    "hyperparamset = algorithm.make_hyperparamset(\n",
    "    hyperparameters = hyperparameters\n",
    ")"
   ]
  },
  {
   "cell_type": "code",
   "execution_count": 26,
   "id": "christian-multiple",
   "metadata": {},
   "outputs": [],
   "source": [
    "queue = algorithm.make_queue(\n",
    "    splitset_id = splitset.id\n",
    "    , hyperparamset_id = hyperparamset.id\n",
    "    , encoderset_id  = encoderset.id\n",
    "    , repeat_count = 1\n",
    ")"
   ]
  },
  {
   "cell_type": "code",
   "execution_count": 27,
   "id": "private-vacation",
   "metadata": {},
   "outputs": [
    {
     "name": "stderr",
     "output_type": "stream",
     "text": [
      "🔮 Training Models 🔮: 100%|██████████████████████████████████████████| 4/4 [00:41<00:00, 10.32s/it]\n"
     ]
    }
   ],
   "source": [
    "queue.run_jobs()"
   ]
  },
  {
   "cell_type": "markdown",
   "id": "interested-blair",
   "metadata": {},
   "source": [
    "For more information on visualization of performance metrics, reference the [Visualization & Metrics](visualization.html) documentation."
   ]
  }
 ],
 "metadata": {
  "kernelspec": {
   "display_name": "Python 3",
   "language": "python",
   "name": "python3"
  },
  "language_info": {
   "codemirror_mode": {
    "name": "ipython",
    "version": 3
   },
   "file_extension": ".py",
   "mimetype": "text/x-python",
   "name": "python",
   "nbconvert_exporter": "python",
   "pygments_lexer": "ipython3",
   "version": "3.8.7"
  }
 },
 "nbformat": 4,
 "nbformat_minor": 5
}
