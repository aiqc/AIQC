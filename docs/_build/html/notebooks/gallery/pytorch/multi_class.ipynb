{
 "cells": [
  {
   "cell_type": "markdown",
   "id": "young-phone",
   "metadata": {
    "tags": []
   },
   "source": [
    "# PyTorch: Tabular Classify Multi-Label"
   ]
  },
  {
   "cell_type": "markdown",
   "id": "35ff8ea6-e9ed-482f-97ed-54042956c9e9",
   "metadata": {
    "tags": []
   },
   "source": [
    "*Categorizing Plant Species with Multi-Label Classification of Phenotypes.*"
   ]
  },
  {
   "cell_type": "markdown",
   "id": "hearing-ministry",
   "metadata": {},
   "source": [
    "<img src=\"../../../_static/images/banner/plants.png\" class=\"banner-photo\"/>"
   ]
  },
  {
   "cell_type": "markdown",
   "id": "vulnerable-saskatchewan",
   "metadata": {},
   "source": [
    "## 💾 Data"
   ]
  },
  {
   "cell_type": "markdown",
   "id": "41e6be70-5505-4a5b-a96d-8ff1f3a3c4ae",
   "metadata": {},
   "source": [
    "Reference [Example Datasets](../../datasets.html) for more information."
   ]
  },
  {
   "cell_type": "markdown",
   "id": "crude-prison",
   "metadata": {},
   "source": [
    "This dataset is comprised of:\n",
    "\n",
    "* *Label* = the species of the plant.\n",
    "* *Features* = phenotypes of the plant sample."
   ]
  },
  {
   "cell_type": "markdown",
   "id": "0e969c1b-d806-47e2-9d65-450fd6099d8c",
   "metadata": {},
   "source": [
    "Reference [Example Datasets](../../datasets.html) for more information."
   ]
  },
  {
   "cell_type": "code",
   "execution_count": 2,
   "id": "83976748-518a-4220-ad13-b26665cf3322",
   "metadata": {},
   "outputs": [],
   "source": [
    "from aiqc import datum\n",
    "df = datum.to_df('iris.tsv')"
   ]
  },
  {
   "cell_type": "code",
   "execution_count": 3,
   "id": "30f507b2-a265-4ca3-9ae3-adf48ce5f934",
   "metadata": {},
   "outputs": [
    {
     "data": {
      "text/html": [
       "<div>\n",
       "<style scoped>\n",
       "    .dataframe tbody tr th:only-of-type {\n",
       "        vertical-align: middle;\n",
       "    }\n",
       "\n",
       "    .dataframe tbody tr th {\n",
       "        vertical-align: top;\n",
       "    }\n",
       "\n",
       "    .dataframe thead th {\n",
       "        text-align: right;\n",
       "    }\n",
       "</style>\n",
       "<table border=\"1\" class=\"dataframe\">\n",
       "  <thead>\n",
       "    <tr style=\"text-align: right;\">\n",
       "      <th></th>\n",
       "      <th>sepal_length</th>\n",
       "      <th>sepal_width</th>\n",
       "      <th>petal_length</th>\n",
       "      <th>petal_width</th>\n",
       "      <th>species</th>\n",
       "    </tr>\n",
       "  </thead>\n",
       "  <tbody>\n",
       "    <tr>\n",
       "      <th>0</th>\n",
       "      <td>5.1</td>\n",
       "      <td>3.5</td>\n",
       "      <td>1.4</td>\n",
       "      <td>0.2</td>\n",
       "      <td>setosa</td>\n",
       "    </tr>\n",
       "    <tr>\n",
       "      <th>1</th>\n",
       "      <td>4.9</td>\n",
       "      <td>3.0</td>\n",
       "      <td>1.4</td>\n",
       "      <td>0.2</td>\n",
       "      <td>setosa</td>\n",
       "    </tr>\n",
       "    <tr>\n",
       "      <th>2</th>\n",
       "      <td>4.7</td>\n",
       "      <td>3.2</td>\n",
       "      <td>1.3</td>\n",
       "      <td>0.2</td>\n",
       "      <td>setosa</td>\n",
       "    </tr>\n",
       "  </tbody>\n",
       "</table>\n",
       "</div>"
      ],
      "text/plain": [
       "   sepal_length  sepal_width  petal_length  petal_width species\n",
       "0           5.1          3.5           1.4          0.2  setosa\n",
       "1           4.9          3.0           1.4          0.2  setosa\n",
       "2           4.7          3.2           1.3          0.2  setosa"
      ]
     },
     "execution_count": 3,
     "metadata": {},
     "output_type": "execute_result"
    }
   ],
   "source": [
    "from aiqc.orm import Dataset\n",
    "shared_dataset = Dataset.Tabular.from_df(df)\n",
    "df.sample(3)"
   ]
  },
  {
   "cell_type": "markdown",
   "id": "developed-agent",
   "metadata": {},
   "source": [
    "---"
   ]
  },
  {
   "cell_type": "markdown",
   "id": "revised-alloy",
   "metadata": {},
   "source": [
    "## 🚰 Pipeline"
   ]
  },
  {
   "cell_type": "markdown",
   "id": "2e1364b5-16e0-4325-968b-0386cd9c66d4",
   "metadata": {},
   "source": [
    "Reference [High-Level API Docs](../../api_high_level.ipynb) for more information."
   ]
  },
  {
   "cell_type": "code",
   "execution_count": 4,
   "id": "c6a62a2a-7902-45e1-96b3-197040a58d2b",
   "metadata": {
    "tags": []
   },
   "outputs": [],
   "source": [
    "from aiqc.mlops import Pipeline, Input, Target, Stratifier\n",
    "from sklearn.preprocessing import OrdinalEncoder, StandardScaler"
   ]
  },
  {
   "cell_type": "code",
   "execution_count": 5,
   "id": "673b83f9-0da0-45c6-999c-5e520022d0ed",
   "metadata": {},
   "outputs": [
    {
     "name": "stdout",
     "output_type": "stream",
     "text": [
      "\n",
      "└── Info - System overriding user input to set `sklearn_preprocess.copy=False`.\n",
      "\tThis saves memory when concatenating the output of many encoders.\n",
      "\n",
      "Warning - The number of samples <117> in your training Split\n",
      "is not evenly divisible by the `fold_count` <5> you specified.\n",
      "This can result in misleading performance metrics for the last Fold.\n",
      "\n"
     ]
    }
   ],
   "source": [
    "pipeline = Pipeline(\n",
    "    Input(\n",
    "        dataset  = shared_dataset,\n",
    "        encoders = Input.Encoder(\n",
    "            StandardScaler(),\n",
    "            dtypes = ['float64']\n",
    "        )\n",
    "    ),\n",
    "        \n",
    "    Target(\n",
    "        dataset   = shared_dataset,\n",
    "        column  = 'species',\n",
    "        encoder = Target.Encoder(OrdinalEncoder())\n",
    "    ),\n",
    "\n",
    "    Stratifier(\n",
    "        size_test       = 0.09,\n",
    "        size_validation = 0.22\n",
    "    )\n",
    ")"
   ]
  },
  {
   "cell_type": "markdown",
   "id": "69b3464e-47ad-4c22-9c3c-5db780e0b025",
   "metadata": {},
   "source": [
    "---"
   ]
  },
  {
   "cell_type": "markdown",
   "id": "f14a925b-a650-48fb-b164-04019d7bc87a",
   "metadata": {},
   "source": [
    "## 🧪 Experiment"
   ]
  },
  {
   "cell_type": "markdown",
   "id": "1a8b1fc8-6266-49e7-9c97-c74255b4d076",
   "metadata": {},
   "source": [
    "Reference [High-Level API Docs](../../api_high_level.ipynb) for more information."
   ]
  },
  {
   "cell_type": "code",
   "execution_count": 6,
   "id": "db18bf56-b64e-46ca-bfd8-2e3ff2892253",
   "metadata": {},
   "outputs": [],
   "source": [
    "from aiqc.mlops import Experiment, Architecture, Trainer\n",
    "import torch.nn as nn\n",
    "from torch import optim\n",
    "import torchmetrics as tm\n",
    "from aiqc.utils.pytorch import fit"
   ]
  },
  {
   "cell_type": "markdown",
   "id": "rolled-picnic",
   "metadata": {},
   "source": [
    "Note that `num_classes` is unique to PyTorch multi-classification."
   ]
  },
  {
   "cell_type": "code",
   "execution_count": 7,
   "id": "c525d72f-4721-47be-b029-a465d2e78d38",
   "metadata": {},
   "outputs": [],
   "source": [
    "def fn_build(\n",
    "    features_shape\n",
    "    , num_classes\n",
    "    , **hp\n",
    "):  \n",
    "    model = nn.Sequential(\n",
    "        # --- Input/Hidden Layer ---\n",
    "        nn.Linear(features_shape[0], hp['neurons'])\n",
    "        , nn.ReLU()\n",
    "        , nn.Dropout(p=0.3)\n",
    "        \n",
    "        # --- Output Layer ---\n",
    "        , nn.Linear(hp['neurons'], num_classes)\n",
    "        , nn.Softmax(dim=1)\n",
    "    )\n",
    "    return model"
   ]
  },
  {
   "cell_type": "code",
   "execution_count": 13,
   "id": "accomplished-envelope",
   "metadata": {},
   "outputs": [],
   "source": [
    "def fn_train(\n",
    "    model\n",
    "    , loser\n",
    "    , optimizer\n",
    "    \n",
    "    , train_features\n",
    "    , train_label\n",
    "    , eval_features\n",
    "    , eval_label\n",
    "    \n",
    "    , **hp\n",
    "):\n",
    "    model = fit(\n",
    "        model\n",
    "        , loser\n",
    "        , optimizer\n",
    "        \n",
    "        , train_features\n",
    "        , train_label\n",
    "        , eval_features\n",
    "        , eval_label\n",
    "        \n",
    "        , epochs     = hp['epochs']\n",
    "        , batch_size = hp['batch_size']\n",
    "        , metrics    = [tm.Accuracy(), tm.F1Score()]\n",
    "    )\n",
    "    return model"
   ]
  },
  {
   "cell_type": "code",
   "execution_count": 14,
   "id": "strong-nancy",
   "metadata": {},
   "outputs": [],
   "source": [
    "hyperparameters = dict(\n",
    "    batch_size   = [3]\n",
    "    , epochs     = [15,25]\n",
    "    , neurons    = [9,12]\n",
    "    , learn_rate = [0.01]\n",
    ")"
   ]
  },
  {
   "cell_type": "code",
   "execution_count": 15,
   "id": "b2108544-5368-4520-9f75-f77ce1f15775",
   "metadata": {},
   "outputs": [],
   "source": [
    "experiment = Experiment(\n",
    "    Architecture(\n",
    "        library           = \"pytorch\"\n",
    "        , analysis_type   = \"classification_multi\"\n",
    "        , fn_build        = fn_build\n",
    "        , fn_train        = fn_train\n",
    "        , hyperparameters = hyperparameters\n",
    "    ),\n",
    "    \n",
    "    Trainer(pipeline=pipeline, repeat_count=3)\n",
    ")"
   ]
  },
  {
   "cell_type": "code",
   "execution_count": null,
   "id": "mechanical-graduate",
   "metadata": {},
   "outputs": [],
   "source": [
    "experiment.run_jobs()"
   ]
  },
  {
   "cell_type": "markdown",
   "id": "1623889f-7ec5-4e93-a0f8-ec6867355df5",
   "metadata": {},
   "source": [
    "---"
   ]
  },
  {
   "cell_type": "markdown",
   "id": "bc64ba5f-1d5d-43b3-bedb-88e39492b9f1",
   "metadata": {},
   "source": [
    "## 📊 Visualization & Interpretation"
   ]
  },
  {
   "cell_type": "markdown",
   "id": "1aa9807a-d4df-4ea0-8b4c-377701556ef1",
   "metadata": {},
   "source": [
    "For more information on visualization of performance metrics, reference the [Dashboard](../../dashboard.html) documentation."
   ]
  }
 ],
 "metadata": {
  "kernelspec": {
   "display_name": "Python 3 (ipykernel)",
   "language": "python",
   "name": "python3"
  },
  "language_info": {
   "codemirror_mode": {
    "name": "ipython",
    "version": 3
   },
   "file_extension": ".py",
   "mimetype": "text/x-python",
   "name": "python",
   "nbconvert_exporter": "python",
   "pygments_lexer": "ipython3",
   "version": "3.7.16"
  }
 },
 "nbformat": 4,
 "nbformat_minor": 5
}
