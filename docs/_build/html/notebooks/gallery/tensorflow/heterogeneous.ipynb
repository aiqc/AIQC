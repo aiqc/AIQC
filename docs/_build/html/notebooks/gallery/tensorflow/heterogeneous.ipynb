{
 "cells": [
  {
   "cell_type": "markdown",
   "id": "democratic-fighter",
   "metadata": {},
   "source": [
    "# Heterogeneous/ Multi-Modal"
   ]
  },
  {
   "cell_type": "markdown",
   "id": "infinite-arthur",
   "metadata": {},
   "source": [
    "*Binary Classification of Galaxy Morphologies Using Images Paired with Tabular Metadata.*"
   ]
  },
  {
   "cell_type": "markdown",
   "id": "deadly-providence",
   "metadata": {},
   "source": [
    "<img src=\"../../../_static/images/banner/spirals.png\" class=\"banner-photo\"/>"
   ]
  },
  {
   "cell_type": "markdown",
   "id": "informal-cyprus",
   "metadata": {},
   "source": [
    "Mixed data analysis is one of the areas where deep learning really sets itself apart from traditional forms of statistics and machine learning. Neural networks are an effective way to logically encode and combine any type of data (image, text, time series, audio, tabular spreadsheets, video, etc) within the same analysis while converging toward the minimization a single *loss* metric. This leads to rich experiments that resemble real-world scenarios that resemble man-machine symbiosis. For example, consider combining a doctor's annotations with electronic medical records and histology imagery."
   ]
  },
  {
   "cell_type": "markdown",
   "id": "resident-danish",
   "metadata": {},
   "source": [
    "> *Due to the fact that these images were captured by different instruments that represent color differently, I removed the noisy 3-channel color information and proceeded with grayscale. Since the shapes of the features are dynamically passed into the model, the only difference between a single versus multi-channel workflow is changing the actual layers (e.g. `Conv1D` to `Conv2D`).*"
   ]
  },
  {
   "cell_type": "markdown",
   "id": "known-salvation",
   "metadata": {},
   "source": [
    "---"
   ]
  },
  {
   "cell_type": "markdown",
   "id": "7bc33355-96e7-485b-9d98-3ba004148509",
   "metadata": {},
   "source": [
    "## 💾 Data"
   ]
  },
  {
   "cell_type": "markdown",
   "id": "1c5e2014-2c8b-48a4-a466-79cbc07a46f8",
   "metadata": {},
   "source": [
    "Reference [Example Datasets](../../datasets.html) for more information."
   ]
  },
  {
   "cell_type": "code",
   "execution_count": 6,
   "id": "2b4d54b9-6170-4e7d-94d6-428481bfd7cc",
   "metadata": {},
   "outputs": [],
   "source": [
    "from aiqc import datum\n",
    "from aiqc.orm import Dataset"
   ]
  },
  {
   "cell_type": "markdown",
   "id": "5fed031c-3e64-469d-b9e3-93947c7aaece",
   "metadata": {},
   "source": [
    "### Tabular Data"
   ]
  },
  {
   "cell_type": "code",
   "execution_count": 7,
   "id": "tough-honolulu",
   "metadata": {},
   "outputs": [],
   "source": [
    "df = datum.to_df('galaxies.tsv')"
   ]
  },
  {
   "cell_type": "markdown",
   "id": "lasting-cursor",
   "metadata": {},
   "source": [
    "Using the built-in structured data about 40 galaxies, we'll derive:\n",
    "\n",
    "* A binary, categorical label: `morphology`.\n",
    "* Categorical and numeric metadata features: `clarity`, `angle`.\n",
    "* A manifest detailing where to find our image files: `url`."
   ]
  },
  {
   "cell_type": "code",
   "execution_count": 8,
   "id": "devoted-retail",
   "metadata": {},
   "outputs": [
    {
     "data": {
      "text/html": [
       "<div>\n",
       "<style scoped>\n",
       "    .dataframe tbody tr th:only-of-type {\n",
       "        vertical-align: middle;\n",
       "    }\n",
       "\n",
       "    .dataframe tbody tr th {\n",
       "        vertical-align: top;\n",
       "    }\n",
       "\n",
       "    .dataframe thead th {\n",
       "        text-align: right;\n",
       "    }\n",
       "</style>\n",
       "<table border=\"1\" class=\"dataframe\">\n",
       "  <thead>\n",
       "    <tr style=\"text-align: right;\">\n",
       "      <th></th>\n",
       "      <th>morphology</th>\n",
       "      <th>clarity</th>\n",
       "      <th>angle</th>\n",
       "      <th>url</th>\n",
       "    </tr>\n",
       "  </thead>\n",
       "  <tbody>\n",
       "    <tr>\n",
       "      <th>0</th>\n",
       "      <td>bar</td>\n",
       "      <td>0</td>\n",
       "      <td>face</td>\n",
       "      <td>https://raw.githubusercontent.com/aiqc/aiqc/ma...</td>\n",
       "    </tr>\n",
       "    <tr>\n",
       "      <th>1</th>\n",
       "      <td>bar</td>\n",
       "      <td>3</td>\n",
       "      <td>angle</td>\n",
       "      <td>https://raw.githubusercontent.com/aiqc/aiqc/ma...</td>\n",
       "    </tr>\n",
       "    <tr>\n",
       "      <th>2</th>\n",
       "      <td>bar</td>\n",
       "      <td>3</td>\n",
       "      <td>face</td>\n",
       "      <td>https://raw.githubusercontent.com/aiqc/aiqc/ma...</td>\n",
       "    </tr>\n",
       "  </tbody>\n",
       "</table>\n",
       "</div>"
      ],
      "text/plain": [
       "  morphology  clarity  angle  \\\n",
       "0        bar        0   face   \n",
       "1        bar        3  angle   \n",
       "2        bar        3   face   \n",
       "\n",
       "                                                 url  \n",
       "0  https://raw.githubusercontent.com/aiqc/aiqc/ma...  \n",
       "1  https://raw.githubusercontent.com/aiqc/aiqc/ma...  \n",
       "2  https://raw.githubusercontent.com/aiqc/aiqc/ma...  "
      ]
     },
     "execution_count": 8,
     "metadata": {},
     "output_type": "execute_result"
    }
   ],
   "source": [
    "df.head(3)"
   ]
  },
  {
   "cell_type": "markdown",
   "id": "51abfd4a-0658-46ef-9e99-6da820f10c99",
   "metadata": {},
   "source": [
    "From a single `Dataset.Tabular` we'll specify a `Label` and `Feature` before encoding them."
   ]
  },
  {
   "cell_type": "code",
   "execution_count": 9,
   "id": "fossil-ireland",
   "metadata": {},
   "outputs": [],
   "source": [
    "shared_dataset = Dataset.Tabular.from_pandas(df)"
   ]
  },
  {
   "cell_type": "markdown",
   "id": "mental-mercy",
   "metadata": {},
   "source": [
    "### Image Data"
   ]
  },
  {
   "cell_type": "markdown",
   "id": "verbal-longer",
   "metadata": {},
   "source": [
    "Construct a `Dataset.Image` from that manifest and use it as a 2nd `Feature`."
   ]
  },
  {
   "cell_type": "code",
   "execution_count": 10,
   "id": "atomic-bridges",
   "metadata": {},
   "outputs": [],
   "source": [
    "urls = df['url'].tolist()"
   ]
  },
  {
   "cell_type": "code",
   "execution_count": 11,
   "id": "informational-alignment",
   "metadata": {},
   "outputs": [
    {
     "name": "stderr",
     "output_type": "stream",
     "text": [
      "🖼️ Ingesting Images 🖼️: 100%|████████████████████████| 40/40 [00:06<00:00,  5.96it/s]\n"
     ]
    }
   ],
   "source": [
    "dataset_img = Dataset.Image.from_urls(urls)"
   ]
  },
  {
   "cell_type": "code",
   "execution_count": 12,
   "id": "missing-maintenance",
   "metadata": {},
   "outputs": [],
   "source": [
    "example_images = Dataset.Image.to_pillow(id=dataset_img.id)"
   ]
  },
  {
   "cell_type": "markdown",
   "id": "smooth-trailer",
   "metadata": {},
   "source": [
    "**Bar galaxies**"
   ]
  },
  {
   "cell_type": "code",
   "execution_count": 13,
   "id": "judicial-insight",
   "metadata": {},
   "outputs": [
    {
     "data": {
      "image/png": "[encoded data removed]",
      "text/plain": [
       "<PIL.Image.Image image mode=L size=110x80 at 0x18BFE6D50>"
      ]
     },
     "execution_count": 13,
     "metadata": {},
     "output_type": "execute_result"
    }
   ],
   "source": [
    "example_images[15]"
   ]
  },
  {
   "cell_type": "code",
   "execution_count": 14,
   "id": "understanding-adolescent",
   "metadata": {},
   "outputs": [
    {
     "data": {
      "image/png": "[encoded data removed]",
      "text/plain": [
       "<PIL.Image.Image image mode=L size=110x80 at 0x18C01E910>"
      ]
     },
     "execution_count": 14,
     "metadata": {},
     "output_type": "execute_result"
    }
   ],
   "source": [
    "example_images[0]"
   ]
  },
  {
   "cell_type": "markdown",
   "id": "periodic-extreme",
   "metadata": {},
   "source": [
    "Although it is easy enough to distinguish between the two types with the naked eye, you start to realize that a *bar* galaxy is almost like a degraded *spiral* galaxy. Like anything else, there is a gray area in whether or not the band of stars/ rectangle of light connecting the two main galactic arms is to be considered a \"bar\" or more of an oval."
   ]
  },
  {
   "cell_type": "markdown",
   "id": "unable-charter",
   "metadata": {},
   "source": [
    "**Spiral galaxies**"
   ]
  },
  {
   "cell_type": "code",
   "execution_count": 15,
   "id": "hungarian-struggle",
   "metadata": {},
   "outputs": [
    {
     "data": {
      "image/png": "[encoded data removed]",
      "text/plain": [
       "<PIL.Image.Image image mode=L size=110x80 at 0x18C033250>"
      ]
     },
     "execution_count": 15,
     "metadata": {},
     "output_type": "execute_result"
    }
   ],
   "source": [
    "example_images[38]"
   ]
  },
  {
   "cell_type": "code",
   "execution_count": 16,
   "id": "fitted-intake",
   "metadata": {},
   "outputs": [
    {
     "data": {
      "image/png": "[encoded data removed]",
      "text/plain": [
       "<PIL.Image.Image image mode=L size=110x80 at 0x18C025D50>"
      ]
     },
     "execution_count": 16,
     "metadata": {},
     "output_type": "execute_result"
    }
   ],
   "source": [
    "example_images[37]"
   ]
  },
  {
   "cell_type": "markdown",
   "id": "db2fdabe-c920-45a3-b9be-0c4b4d1bcdf1",
   "metadata": {},
   "source": [
    "---"
   ]
  },
  {
   "cell_type": "markdown",
   "id": "98ed40ca-40bd-4c05-acb0-c4becb7e394b",
   "metadata": {},
   "source": [
    "## 🚰 Pipeline"
   ]
  },
  {
   "cell_type": "markdown",
   "id": "833072ec-9144-4c69-9cff-1101939e8d14",
   "metadata": {},
   "source": [
    "Reference [High-Level API Docs](../../api_high_level.ipynb) for more information."
   ]
  },
  {
   "cell_type": "code",
   "execution_count": 27,
   "id": "05db791e-c45b-4204-931c-11ff84742185",
   "metadata": {
    "tags": []
   },
   "outputs": [],
   "source": [
    "from aiqc.mlops import Pipeline, Input, Target, Stratifier\n",
    "from sklearn.preprocessing import OneHotEncoder, OrdinalEncoder, StandardScaler, FunctionTransformer\n",
    "from aiqc.utils.encoding import div255, mult255"
   ]
  },
  {
   "cell_type": "code",
   "execution_count": 29,
   "id": "66875bc7-583c-45e6-824c-2d9badbf11e7",
   "metadata": {},
   "outputs": [
    {
     "name": "stdout",
     "output_type": "stream",
     "text": [
      "\n",
      "└── Info - System overriding user input to set `sklearn_preprocess.copy=False`.\n",
      "\tThis saves memory when concatenating the output of many encoders.\n",
      "\n",
      "\n",
      "└── Info - System overriding user input to set `sklearn_preprocess.sparse=False`.\n",
      "\tThis would have generated 'scipy.sparse.csr.csr_matrix', causing Keras training to fail.\n",
      "\n"
     ]
    }
   ],
   "source": [
    "pipeline = Pipeline(\n",
    "    inputs = [\n",
    "        Input(\n",
    "            dataset         = shared_dataset,\n",
    "            exclude_columns = ['url'],\n",
    "            encoders        = [\n",
    "                Input.Encoder(StandardScaler(), columns=['clarity']),\n",
    "                Input.Encoder(OneHotEncoder(),  columns=['angle'])\n",
    "            ]\n",
    "        ),\n",
    "        \n",
    "        Input(\n",
    "            dataset = dataset_img,\n",
    "            encoders = Input.Encoder(FunctionTransformer(div255, inverse_func=mult255))\n",
    "        )\n",
    "    ],\n",
    "    \n",
    "    target = Target(\n",
    "        dataset = shared_dataset,\n",
    "        column  = 'morphology',\n",
    "        encoder = Target.Encoder(OrdinalEncoder())\n",
    "    ),\n",
    "\n",
    "    stratifier = Stratifier(\n",
    "        size_test       = 0.125,\n",
    "        size_validation = 0.175\n",
    "    )\n",
    ")"
   ]
  },
  {
   "cell_type": "markdown",
   "id": "drawn-blake",
   "metadata": {},
   "source": [
    "---"
   ]
  },
  {
   "cell_type": "markdown",
   "id": "13e521c1-87e0-4f2e-8b0e-1c9c9d8fc851",
   "metadata": {},
   "source": [
    "## 🧪 Experiment"
   ]
  },
  {
   "cell_type": "markdown",
   "id": "98d0e18f-0514-4b61-ac18-a7aca37c0b45",
   "metadata": {},
   "source": [
    "Reference [High-Level API Docs](../../api_high_level.ipynb) for more information."
   ]
  },
  {
   "cell_type": "markdown",
   "id": "concerned-trail",
   "metadata": {},
   "source": [
    "Below we see two towers, feedforward for tabular data and convolutional for image data, that are eventually concatenated together."
   ]
  },
  {
   "cell_type": "code",
   "execution_count": 30,
   "id": "ea3464bb-18e1-46b4-82d2-63fdc9186c4d",
   "metadata": {},
   "outputs": [],
   "source": [
    "from aiqc.mlops import Experiment, Architecture, Trainer\n",
    "import tensorflow as tf\n",
    "from tensorflow.keras import layers as l\n",
    "from aiqc.utils.tensorflow import TrainingCallback"
   ]
  },
  {
   "cell_type": "code",
   "execution_count": 31,
   "id": "authentic-parish",
   "metadata": {},
   "outputs": [],
   "source": [
    "def fn_build(feature_shapes, label_shape, **hp):\n",
    "    \n",
    "    # Feed forward tower using the first Feature.\n",
    "    ff_input = l.Input(shape=feature_shapes[0][0])    \n",
    "    ff = l.Dense(units=hp['ff_neurons'], activation='relu')(ff_input)\n",
    "    ff = l.Dropout(0.2)(ff)\n",
    "    model_ff = tf.keras.Model(ff_input, ff)\n",
    "        \n",
    "    # Convolutional tower using the second Feature.\n",
    "    cnn_input = l.Input(shape=feature_shapes[1])\n",
    "    cnn = l.Conv1D(\n",
    "        16*hp['cnn_multiply'], kernel_size=3,\n",
    "        padding='same', activation='relu',\n",
    "        kernel_initializer=hp['init'])(cnn_input)\n",
    "    #cnn = l.MaxPool1D(pool_size=2)(cnn)\n",
    "    cnn = l.BatchNormalization()(cnn)\n",
    "    cnn = l.Dropout(hp['dropout'])(cnn)\n",
    "    \n",
    "    cnn = l.Conv1D(\n",
    "        16*hp['cnn_multiply'], kernel_size=3,\n",
    "        padding='same', activation='relu',\n",
    "        kernel_initializer=hp['init'])(cnn)\n",
    "    #cnn = l.MaxPool1D(pool_size=2)(cnn)\n",
    "    cnn = l.BatchNormalization()(cnn)\n",
    "    cnn = l.Dropout(hp['dropout'])(cnn)\n",
    "    \n",
    "    cnn = l.Conv1D(\n",
    "        32*hp['cnn_multiply'], kernel_size=3,\n",
    "        padding='same', activation='relu',\n",
    "        kernel_initializer=hp['init'])(cnn)\n",
    "    #cnn = l.MaxPool1D(pool_size=2)(cnn)\n",
    "    cnn = l.BatchNormalization()(cnn)\n",
    "    cnn = l.Dropout(hp['dropout'])(cnn)\n",
    "    \n",
    "    if (hp['cnn_4th'] == True):\n",
    "        cnn = l.Conv1D(\n",
    "            32*hp['cnn_multiply'], kernel_size=3,\n",
    "            padding='same', activation='relu',\n",
    "            kernel_initializer=hp['init'])(cnn)\n",
    "        #cnn = l.MaxPool1D(pool_size=2)(cnn)\n",
    "        cnn = l.BatchNormalization()(cnn)\n",
    "        cnn = l.Dropout(hp['dropout'])(cnn)\n",
    "\n",
    "    # Perform one dense layer on CNN output, so that the tabular data\n",
    "    # can talk directly to the \n",
    "    cnn = l.Flatten()(cnn)\n",
    "    cnn = l.BatchNormalization()(cnn)\n",
    "    cnn = l.Activation('relu')(cnn)\n",
    "    cnn = l.Dropout(0.2)(cnn)\n",
    "    model_cnn = tf.keras.Model(cnn_input, cnn)\n",
    "\n",
    "    concat = l.concatenate([model_ff.output, model_cnn.output])\n",
    "    join = l.Dense(hp['concat_neurons'], activation='relu')(concat)\n",
    "    join = l.BatchNormalization()(join)\n",
    "    join = l.Activation('relu')(join)\n",
    "    join = l.Dropout(0.2)(join)\n",
    "    \n",
    "    join = l.Dense(label_shape[0], activation='sigmoid')(join)\n",
    "    \n",
    "\n",
    "    model = tf.keras.Model(inputs=[model_ff.input, model_cnn.input], outputs=join)\n",
    "    return model"
   ]
  },
  {
   "cell_type": "code",
   "execution_count": 33,
   "id": "champion-source",
   "metadata": {},
   "outputs": [],
   "source": [
    "def fn_train(\n",
    "    model, loser, optimizer,\n",
    "    train_features, train_label,\n",
    "    eval_features, eval_label,\n",
    "    **hp\n",
    "):\n",
    "    model.compile(\n",
    "        loss        = loser\n",
    "        , optimizer = optimizer\n",
    "        , metrics   = ['accuracy']\n",
    "    )\n",
    "    \n",
    "    # Early stopper.\n",
    "    metrics_cutoffs = [\n",
    "        dict(metric='accuracy',     cutoff=0.90, above_or_below='above'),\n",
    "        dict(metric='val_accuracy', cutoff=0.80, above_or_below='above'), \n",
    "        #only 5 samples in validation set.\n",
    "    ]\n",
    "    cutoffs   = TrainingCallback.MetricCutoff(metrics_cutoffs)\n",
    "    callbacks = [tf.keras.callbacks.History(), cutoffs]    \n",
    "        \n",
    "        \n",
    "    model.fit(\n",
    "        x                 = train_features\n",
    "        , y               = train_label\n",
    "        , validation_data = (eval_features, eval_label)\n",
    "        , verbose         = 0\n",
    "        , batch_size      = hp['batch_size']\n",
    "        , epochs          = hp['epoch_count']\n",
    "        , callbacks       = callbacks\n",
    "    )\n",
    "    return model"
   ]
  },
  {
   "cell_type": "code",
   "execution_count": 34,
   "id": "moved-charm",
   "metadata": {},
   "outputs": [],
   "source": [
    "hyperparameters = dict(\n",
    "    epoch_count      = [300]\n",
    "    , learning_rate  = [0.01]\n",
    "    , batch_size     = [5]\n",
    "    , ff_neurons     = [5]\n",
    "    , cnn_multiply   = [1.0, 0.5]\n",
    "    , dropout        = [0.5]\n",
    "    , init           = ['he_normal']\n",
    "    , cnn_4th        = [True]\n",
    "    , concat_neurons = [64]\n",
    ")"
   ]
  },
  {
   "cell_type": "markdown",
   "id": "directed-samoa",
   "metadata": {},
   "source": [
    "`repeat_count` runs the same model multiple times due to the fact that neural networks are non-deterministic."
   ]
  },
  {
   "cell_type": "code",
   "execution_count": 35,
   "id": "7e2e315b-6955-45b6-bb39-64d4114fc8fc",
   "metadata": {},
   "outputs": [],
   "source": [
    "experiment = Experiment(\n",
    "    Architecture(\n",
    "        library           = \"keras\"\n",
    "        , analysis_type   = \"classification_binary\"\n",
    "        , fn_build        = fn_build\n",
    "        , fn_train        = fn_train\n",
    "        , hyperparameters = hyperparameters\n",
    "    ),\n",
    "    \n",
    "    Trainer(\n",
    "        pipeline     = pipeline,\n",
    "        repeat_count = 2\n",
    "    )\n",
    ")"
   ]
  },
  {
   "cell_type": "code",
   "execution_count": 36,
   "id": "demanding-divide",
   "metadata": {},
   "outputs": [],
   "source": [
    "tf.get_logger().setLevel('ERROR');"
   ]
  },
  {
   "cell_type": "code",
   "execution_count": 37,
   "id": "empty-clock",
   "metadata": {},
   "outputs": [
    {
     "name": "stderr",
     "output_type": "stream",
     "text": [
      "📦 Caching Splits 📦: 100%|██████████████████████████████████████████| 3/3 [00:00<00:00, 267.72it/s]\n",
      "🔮 Training Models 🔮:  25%|██████████▌                               | 1/4 [00:25<01:16, 25.54s/it]"
     ]
    },
    {
     "name": "stdout",
     "output_type": "stream",
     "text": [
      ":: Epoch #247 ::\n",
      "Congratulations - satisfied early stopping thresholds defined in `MetricCutoff` callback:\n",
      "[{'above_or_below': 'above', 'cutoff': 0.9, 'metric': 'accuracy'},\n",
      " {'above_or_below': 'above', 'cutoff': 0.8, 'metric': 'val_accuracy'}]\n",
      "\n"
     ]
    },
    {
     "name": "stderr",
     "output_type": "stream",
     "text": [
      "🔮 Training Models 🔮:  50%|█████████████████████                     | 2/4 [00:42<00:40, 20.44s/it]"
     ]
    },
    {
     "name": "stdout",
     "output_type": "stream",
     "text": [
      ":: Epoch #227 ::\n",
      "Congratulations - satisfied early stopping thresholds defined in `MetricCutoff` callback:\n",
      "[{'above_or_below': 'above', 'cutoff': 0.9, 'metric': 'accuracy'},\n",
      " {'above_or_below': 'above', 'cutoff': 0.8, 'metric': 'val_accuracy'}]\n",
      "\n"
     ]
    },
    {
     "name": "stderr",
     "output_type": "stream",
     "text": [
      "🔮 Training Models 🔮: 100%|██████████████████████████████████████████| 4/4 [01:23<00:00, 20.78s/it]\n"
     ]
    }
   ],
   "source": [
    "experiment.run_jobs()"
   ]
  },
  {
   "cell_type": "markdown",
   "id": "f2885824-738a-4e54-8ab9-6513be493711",
   "metadata": {},
   "source": [
    "---"
   ]
  },
  {
   "cell_type": "markdown",
   "id": "9d9e3b16-4bb1-48dc-a9f6-df593d4dc5af",
   "metadata": {},
   "source": [
    "## 📊 Visualization & Interpretation"
   ]
  },
  {
   "cell_type": "markdown",
   "id": "b8f07a34-28de-49ff-b338-58272cb7c48b",
   "metadata": {},
   "source": [
    "For more information on visualization of performance metrics, reference the [Dashboard](../../dashboard.html) documentation."
   ]
  }
 ],
 "metadata": {
  "kernelspec": {
   "display_name": "Python 3 (ipykernel)",
   "language": "python",
   "name": "python3"
  },
  "language_info": {
   "codemirror_mode": {
    "name": "ipython",
    "version": 3
   },
   "file_extension": ".py",
   "mimetype": "text/x-python",
   "name": "python",
   "nbconvert_exporter": "python",
   "pygments_lexer": "ipython3",
   "version": "3.7.16"
  }
 },
 "nbformat": 4,
 "nbformat_minor": 5
}
