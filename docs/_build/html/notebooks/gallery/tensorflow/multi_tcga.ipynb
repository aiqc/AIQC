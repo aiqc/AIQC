{
 "cells": [
  {
   "cell_type": "markdown",
   "id": "9f97666b-0c52-428d-ad3e-7763e4093e6f",
   "metadata": {},
   "source": [
    "# Feature Importance for Genetic Target Validation"
   ]
  },
  {
   "cell_type": "markdown",
   "id": "2cf1508d-9a38-4e8f-bb52-c2d523878c17",
   "metadata": {},
   "source": [
    "*Classifying 5 tumor types based on their mRNA expression levels in 20,532 genes.*"
   ]
  },
  {
   "cell_type": "markdown",
   "id": "160a553c-a6ba-4e42-b565-0c35b2fc4ea4",
   "metadata": {},
   "source": [
    "<img src=\"../../../_static/images/banner/genes.png\" class=\"banner-photo\"/>"
   ]
  },
  {
   "cell_type": "markdown",
   "id": "c32dca02-47bc-402b-9f01-17396f302cb1",
   "metadata": {},
   "source": [
    "## Context"
   ]
  },
  {
   "cell_type": "markdown",
   "id": "9f95ce49-d013-4323-ba6e-453fb89cf4cc",
   "metadata": {},
   "source": [
    "This dataset is comprised of:\n",
    "\n",
    "* *Features* - the expression of 20,532 genes from 800 participants. \n",
    "* *Labels* - the type of tumor: BRCA, KIRC, LUAD or PRAD.\n",
    "\n",
    "> *Source:* The Cancer Genome Atlas (TCGA)\n",
    "> https://archive.ics.uci.edu/ml/datasets/gene+expression+cancer+RNA-Seq\n",
    ">\n",
    "> Unfortunately, the gene names were not published with the dataset. I contacted the submitting organization, but they were not able to provide an index."
   ]
  },
  {
   "cell_type": "markdown",
   "id": "46fa1d76-3236-47e0-92b9-34616c3a8a47",
   "metadata": {},
   "source": [
    "Although the oncogene relationships already known (the tumors are named after gene complexes), the purpose of this experiment is to validate that neural networks can be used to rapidly reveal these patterns in the presence of highly dimensional data. This methodology could also be repurposed for delineating biomarkers of different stages/ subtypes within a single disease."
   ]
  },
  {
   "cell_type": "markdown",
   "id": "d3b8578a-3139-46fc-8c3d-bb6605ce3e3c",
   "metadata": {},
   "source": [
    "Prior to ingestion:\n",
    "\n",
    "* Balanced the dataset based on the 'Class' column, which essentially meant deleting 150 BRCA samples.\n",
    "\n",
    "* Filtered out low expression frequency (EF) genes, but that still left over 19.5K genes."
   ]
  },
  {
   "cell_type": "markdown",
   "id": "b68a4eee-c2c7-4689-a94f-88ff724bde02",
   "metadata": {},
   "source": [
    "---"
   ]
  },
  {
   "cell_type": "markdown",
   "id": "ab264f5a-d4bb-4679-a7a3-8dd2048d9d66",
   "metadata": {},
   "source": [
    "## 💾 Data"
   ]
  },
  {
   "cell_type": "code",
   "execution_count": 2,
   "id": "c4905e92-81a1-4dca-a598-a93ab05441c9",
   "metadata": {},
   "outputs": [],
   "source": [
    "from aiqc.orm import Dataset"
   ]
  },
  {
   "cell_type": "code",
   "execution_count": 2,
   "id": "efa26609-4015-4a4c-90e0-15e1a2131f12",
   "metadata": {},
   "outputs": [],
   "source": [
    "shared_dataset = Dataset.Tabular.from_path(\"~/Desktop/TCGA/expression.parquet\")"
   ]
  },
  {
   "cell_type": "markdown",
   "id": "e9cebc53-c488-488d-805b-aa88ce10ba7c",
   "metadata": {},
   "source": [
    "---"
   ]
  },
  {
   "cell_type": "markdown",
   "id": "3079fbfa-ebd5-4529-a237-7e8adbac1b32",
   "metadata": {},
   "source": [
    "## 🚰 Pipeline"
   ]
  },
  {
   "cell_type": "markdown",
   "id": "19de3c78-2a4b-4bdf-84d0-24084c579934",
   "metadata": {},
   "source": [
    "Reference [High-Level API Docs](../../api_high_level.ipynb) for more information."
   ]
  },
  {
   "cell_type": "code",
   "execution_count": null,
   "id": "4a9de91b-30d2-42a8-8ac0-631266988d8c",
   "metadata": {
    "tags": []
   },
   "outputs": [],
   "source": [
    "from aiqc.mlops import Pipeline, Input, Target, Stratifier\n",
    "from sklearn.preprocessing import OneHotEncoder, StandardScaler"
   ]
  },
  {
   "cell_type": "code",
   "execution_count": 6,
   "id": "71f4d24f-10bd-471b-a3c4-ce909a8d81ec",
   "metadata": {},
   "outputs": [],
   "source": [
    "pipeline = Pipeline(\n",
    "    Input(\n",
    "        dataset         = shared_dataset,\n",
    "        exclude_columns = ['sample_ID'],\n",
    "        encoders        = Input.Encoder(\n",
    "            StandardScaler(),\n",
    "            dtypes = ['float64']\n",
    "        )\n",
    "    ),\n",
    "        \n",
    "    Target(\n",
    "        dataset = shared_dataset,\n",
    "        column  = 'Class',\n",
    "        encoder = Target.Encoder(OneHotEncoder())\n",
    "    ),\n",
    "\n",
    "    Stratifier(\n",
    "        size_validation = 0.22,\n",
    "        size_test       = 0.08\n",
    "    )\n",
    ")"
   ]
  },
  {
   "cell_type": "markdown",
   "id": "fcfb2f27-07ff-4063-8caa-da9abe162d98",
   "metadata": {},
   "source": [
    "---"
   ]
  },
  {
   "cell_type": "markdown",
   "id": "f4972d6c-b5c3-4544-84ca-1ab978dd3852",
   "metadata": {},
   "source": [
    "## 🧪 Experiment"
   ]
  },
  {
   "cell_type": "markdown",
   "id": "ca2a9645-4fe6-4acc-9a0b-de6ac5cd902b",
   "metadata": {},
   "source": [
    "Reference [High-Level API Docs](../../api_high_level.ipynb) for more information."
   ]
  },
  {
   "cell_type": "code",
   "execution_count": null,
   "id": "4ebd1770-a33c-4010-b2d2-0591f3596495",
   "metadata": {},
   "outputs": [],
   "source": [
    "import tensorflow as tf\n",
    "from tensorflow.keras import layers as l"
   ]
  },
  {
   "cell_type": "code",
   "execution_count": null,
   "id": "878a9741-951a-45ea-96c9-5c96e0d3d0e1",
   "metadata": {},
   "outputs": [],
   "source": [
    "def fn_build(features_shape, label_shape, **hp):\n",
    "    m = tf.keras.models.Sequential()\n",
    "    m.add(l.Input(shape=features_shape))\n",
    "    \n",
    "    # First hidden layer.\n",
    "    m.add(l.Dense(hp['first_neurons'], kernel_initializer=hp['init']))\n",
    "    m.add(l.BatchNormalization())\n",
    "    m.add(l.Activation(hp['activation']))\n",
    "    m.add(l.Dropout(hp['drop_rate']))\n",
    "    \n",
    "    # Output layer\n",
    "    m.add(l.Dense(units=label_shape[0], activation='softmax'))\n",
    "    return m"
   ]
  },
  {
   "cell_type": "code",
   "execution_count": null,
   "id": "acf1892f-6d6f-481e-8672-4796d5c345fd",
   "metadata": {},
   "outputs": [],
   "source": [
    "def fn_train(\n",
    "    model, loser, optimizer,\n",
    "    train_features, train_label,\n",
    "    eval_features, eval_label,\n",
    "    **hp\n",
    "):\n",
    "    model.compile(loss=loser, optimizer=optimizer)\n",
    "\n",
    "    model.fit(\n",
    "        train_features, train_label\n",
    "        , validation_data = (eval_features, eval_label)\n",
    "        , verbose = 0\n",
    "        , batch_size = hp['batch_size']\n",
    "        , epochs = hp['epochs']\n",
    "        , callbacks = [tf.keras.callbacks.History()]\n",
    "    )\n",
    "    return model"
   ]
  },
  {
   "cell_type": "code",
   "execution_count": null,
   "id": "0dc1d216-08fa-4797-97ae-366748d1987c",
   "metadata": {},
   "outputs": [],
   "source": [
    "hyperparameters = dict(\n",
    "    first_neurons   = [120]\n",
    "    , activation    = ['relu']\n",
    "    , init          = ['he_uniform']\n",
    "    , epochs        = [10]\n",
    "    , batch_size    = [8]\n",
    "    , drop_rate     = [0.4]\n",
    "    , learning_rate = [0.01]\n",
    ")"
   ]
  },
  {
   "cell_type": "code",
   "execution_count": 10,
   "id": "91d82522-ead3-4956-bb22-08376110b594",
   "metadata": {},
   "outputs": [],
   "source": [
    "experiment = Experiment(\n",
    "    Architecture(\n",
    "        library           = \"keras\"\n",
    "        , analysis_type   = \"classification_multi\"\n",
    "        , fn_build        = fn_build\n",
    "        , fn_train        = fn_train\n",
    "        , hyperparameters = hyperparameters\n",
    "    ),\n",
    "    \n",
    "    Trainer(\n",
    "        pipeline        = pipeline\n",
    "        , repeat_count  = 2\n",
    "        , permute_count = 5\n",
    "    )\n",
    ")"
   ]
  },
  {
   "cell_type": "markdown",
   "id": "48edbb29-2d42-401f-8c38-7f836f8f7d69",
   "metadata": {
    "tags": []
   },
   "source": [
    "Ironically, the neural network takes less than 30 seconds to train. Whereas the feature permutations take 3+ hours."
   ]
  },
  {
   "cell_type": "code",
   "execution_count": null,
   "id": "f4a6049f-63d7-4397-90ec-cf243cbc5420",
   "metadata": {
    "tags": []
   },
   "outputs": [],
   "source": [
    "experiment.run_jobs()"
   ]
  },
  {
   "cell_type": "markdown",
   "id": "3e0816af-9a0e-491e-851c-704561a3d1a7",
   "metadata": {},
   "source": [
    "---"
   ]
  },
  {
   "cell_type": "markdown",
   "id": "0f162581-e88e-4474-b632-26fc7411e44a",
   "metadata": {},
   "source": [
    "## 📊 Visualization & Interpretation"
   ]
  },
  {
   "cell_type": "markdown",
   "id": "b1cf29f4-e131-4dec-a896-8affe128e185",
   "metadata": {},
   "source": [
    "For more information on visualization of performance metrics, reference the [Dashboard](../../dashboard.html) documentation."
   ]
  },
  {
   "cell_type": "markdown",
   "id": "bbc78038-5bc9-449b-8602-213d167e218b",
   "metadata": {
    "tags": []
   },
   "source": [
    "The patterns must be shockingly absolute. After our first try with a single hidden layer, we achieve a perfect score. This is surprising given the use of a validation and test split, and given the fact that there are 4 different categories."
   ]
  },
  {
   "cell_type": "code",
   "execution_count": null,
   "id": "56321445-c185-48c8-9ecd-11f16ed9d169",
   "metadata": {},
   "outputs": [],
   "source": [
    "queue.metrics_df()"
   ]
  },
  {
   "cell_type": "code",
   "execution_count": null,
   "id": "0f200882-c306-4def-a567-285fe7e27fa5",
   "metadata": {},
   "outputs": [],
   "source": [
    "from aiqc.orm import Predictor"
   ]
  },
  {
   "cell_type": "code",
   "execution_count": null,
   "id": "d4e732b7-a9f9-4f43-a98b-9c9f13bf0870",
   "metadata": {},
   "outputs": [],
   "source": [
    "id = 671\n",
    "predictor = orm.Predictor.get_by_id(id)\n",
    "prediction = predictor.predictions[0]"
   ]
  },
  {
   "cell_type": "code",
   "execution_count": null,
   "id": "87b65881-85dd-42a8-b6b9-4cb650fa88d4",
   "metadata": {
    "tags": []
   },
   "outputs": [],
   "source": [
    "prediction.plot_confusion_matrix()"
   ]
  },
  {
   "cell_type": "markdown",
   "id": "fe87262f-e3ee-4753-b465-d3164384197c",
   "metadata": {
    "tags": []
   },
   "source": [
    "![geneConfusion](../../../_static/images/notebook/gene_confusion.png)"
   ]
  },
  {
   "cell_type": "markdown",
   "id": "f5ffd7c9-41e5-4394-be2b-c7c8e8f78d8f",
   "metadata": {},
   "source": [
    "The `Experiment.permute_count` parameter determines how many times each feature is permuted and run back through the model. The median difference in loss is then compared to the baseline loss of the model."
   ]
  },
  {
   "cell_type": "code",
   "execution_count": null,
   "id": "02712ad1-b6a1-446a-ac6b-2dd3aeb91524",
   "metadata": {
    "tags": []
   },
   "outputs": [],
   "source": [
    "prediction.plot_feature_importance(top_n=30)"
   ]
  },
  {
   "cell_type": "markdown",
   "id": "9fb45af4-0826-4664-8eb6-245064d89a0f",
   "metadata": {
    "tags": []
   },
   "source": [
    "![geneFeatures](../../../_static/images/notebook/gene_features.png)"
   ]
  },
  {
   "cell_type": "code",
   "execution_count": null,
   "id": "b01a9b44-95db-4520-bb74-b7fb2f1ca096",
   "metadata": {
    "tags": []
   },
   "outputs": [],
   "source": [
    "import pandas as pd\n",
    "df = pd.read_parquet(\"/Users/layne/desktop/TCGA/TCGA_expression.parquet\")"
   ]
  },
  {
   "cell_type": "code",
   "execution_count": null,
   "id": "70b3cef4-ddcf-4f14-96c7-940f1d70a286",
   "metadata": {
    "tags": []
   },
   "outputs": [],
   "source": [
    "import plotly.express as px\n",
    "px.box(df, x=\"Class\", y='gene_15589', height=50).show()\n",
    "px.box(df, x=\"Class\", y='gene_17801', height=50).show()"
   ]
  },
  {
   "cell_type": "markdown",
   "id": "badafeab-89d1-43b8-8211-c1c5b62fb7ac",
   "metadata": {
    "tags": []
   },
   "source": [
    "![geneBRCA](../../../_static/images/notebook/gene_brca.png)"
   ]
  },
  {
   "cell_type": "markdown",
   "id": "198e6479-8a80-4ae2-8415-42582a1b9dba",
   "metadata": {
    "tags": []
   },
   "source": [
    "![geneGroup](../../../_static/images/notebook/gene_group.png)"
   ]
  },
  {
   "cell_type": "markdown",
   "id": "34a0e4bf-1f53-482f-a40c-8122531b9a97",
   "metadata": {},
   "source": [
    "Interpretting the top 30 features in box plots, we can observe that: \n",
    "\n",
    "* BRCA expression is independent from the others. It is significantly more expressed across our top 5 candidate genes. The signal/ patterns are stronger.\n",
    "\n",
    "* The PRAD, LUAD, and KIRC, tumors appear to be coexpressed. Perhaps those cancers share a pathway.\n",
    "\n",
    "* There is an accumulation of over-expression across many genes, not just 1 or 2.\n",
    "\n",
    "* If we had a 5th control group of benign samples, we could learn a lot more."
   ]
  }
 ],
 "metadata": {
  "kernelspec": {
   "display_name": "Python 3 (ipykernel)",
   "language": "python",
   "name": "python3"
  },
  "language_info": {
   "codemirror_mode": {
    "name": "ipython",
    "version": 3
   },
   "file_extension": ".py",
   "mimetype": "text/x-python",
   "name": "python",
   "nbconvert_exporter": "python",
   "pygments_lexer": "ipython3",
   "version": "3.7.16"
  }
 },
 "nbformat": 4,
 "nbformat_minor": 5
}
