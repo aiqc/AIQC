{
 "cells": [
  {
   "cell_type": "markdown",
   "id": "wireless-beach",
   "metadata": {},
   "source": [
    "# TensorFlow: Times Series Classify Binary"
   ]
  },
  {
   "cell_type": "markdown",
   "id": "neutral-strengthening",
   "metadata": {},
   "source": [
    "*Binary Detection of Epileptic Seizures Using a Cohort of Sequence of Electroencephalography (EEG) Readings.*"
   ]
  },
  {
   "cell_type": "markdown",
   "id": "immediate-aerospace",
   "metadata": {},
   "source": [
    "<img src=\"../../../_static/images/banner/waves.png\" class=\"banner-photo\"/>"
   ]
  },
  {
   "cell_type": "markdown",
   "id": "polish-expansion",
   "metadata": {},
   "source": [
    "Sequence data structures contain many observations (rows) for each sample (e.g. site, sensor, or patient). They are often used for grouping time-based observations into what is called a time series. However, sequences can also represent biological sequences like DNA and RNA.\n",
    "\n",
    "The cardinality of *many observations per sample* changes the dimensionality of the data from 2D to 3D. This effectively adds an additional layer of complexity to all aspects of data preparation. In this notebook, you'll see that, once a `Dataset.Sequence` has been ingested, the AIQC API allows you to work with multivariate 3D data as easily as if it were 2D. As an example, you can still apply encoders by dtype and column_name."
   ]
  },
  {
   "cell_type": "markdown",
   "id": "435ccb61-81b3-4726-b1d7-f4b987fc8cd0",
   "metadata": {},
   "source": [
    "---"
   ]
  },
  {
   "cell_type": "markdown",
   "id": "db092e15-1843-410f-903c-ca6a68f4947b",
   "metadata": {},
   "source": [
    "## 💾 Data"
   ]
  },
  {
   "cell_type": "markdown",
   "id": "ab90199a-7998-4904-8c39-7f093e068db6",
   "metadata": {},
   "source": [
    "Reference [Example Datasets](../../datasets.html) for more information."
   ]
  },
  {
   "cell_type": "markdown",
   "id": "cc43c390-d99a-476b-9fc4-a7c8c5fabee9",
   "metadata": {},
   "source": [
    "This dataset is comprised of:\n",
    "    \n",
    "- *Features* = a sequence of electroencephalogram (EEG) readings.\n",
    "- *Label* = presence of an epileptic seizure."
   ]
  },
  {
   "cell_type": "code",
   "execution_count": 3,
   "id": "genetic-leeds",
   "metadata": {},
   "outputs": [
    {
     "data": {
      "text/html": [
       "<div>\n",
       "<style scoped>\n",
       "    .dataframe tbody tr th:only-of-type {\n",
       "        vertical-align: middle;\n",
       "    }\n",
       "\n",
       "    .dataframe tbody tr th {\n",
       "        vertical-align: top;\n",
       "    }\n",
       "\n",
       "    .dataframe thead th {\n",
       "        text-align: right;\n",
       "    }\n",
       "</style>\n",
       "<table border=\"1\" class=\"dataframe\">\n",
       "  <thead>\n",
       "    <tr style=\"text-align: right;\">\n",
       "      <th></th>\n",
       "      <th>sensor_0</th>\n",
       "      <th>sensor_1</th>\n",
       "      <th>sensor_2</th>\n",
       "      <th>sensor_3</th>\n",
       "      <th>sensor_4</th>\n",
       "      <th>sensor_5</th>\n",
       "      <th>sensor_6</th>\n",
       "      <th>sensor_7</th>\n",
       "      <th>sensor_8</th>\n",
       "      <th>sensor_9</th>\n",
       "      <th>...</th>\n",
       "      <th>sensor_169</th>\n",
       "      <th>sensor_170</th>\n",
       "      <th>sensor_171</th>\n",
       "      <th>sensor_172</th>\n",
       "      <th>sensor_173</th>\n",
       "      <th>sensor_174</th>\n",
       "      <th>sensor_175</th>\n",
       "      <th>sensor_176</th>\n",
       "      <th>sensor_177</th>\n",
       "      <th>seizure</th>\n",
       "    </tr>\n",
       "  </thead>\n",
       "  <tbody>\n",
       "    <tr>\n",
       "      <th>0</th>\n",
       "      <td>232</td>\n",
       "      <td>183</td>\n",
       "      <td>125</td>\n",
       "      <td>47</td>\n",
       "      <td>-32</td>\n",
       "      <td>-73</td>\n",
       "      <td>-105</td>\n",
       "      <td>-99</td>\n",
       "      <td>-72</td>\n",
       "      <td>-33</td>\n",
       "      <td>...</td>\n",
       "      <td>-202</td>\n",
       "      <td>-303</td>\n",
       "      <td>-365</td>\n",
       "      <td>-389</td>\n",
       "      <td>-406</td>\n",
       "      <td>-401</td>\n",
       "      <td>-366</td>\n",
       "      <td>-251</td>\n",
       "      <td>-143</td>\n",
       "      <td>1</td>\n",
       "    </tr>\n",
       "    <tr>\n",
       "      <th>1</th>\n",
       "      <td>284</td>\n",
       "      <td>276</td>\n",
       "      <td>268</td>\n",
       "      <td>261</td>\n",
       "      <td>254</td>\n",
       "      <td>241</td>\n",
       "      <td>232</td>\n",
       "      <td>223</td>\n",
       "      <td>212</td>\n",
       "      <td>206</td>\n",
       "      <td>...</td>\n",
       "      <td>64</td>\n",
       "      <td>15</td>\n",
       "      <td>-19</td>\n",
       "      <td>-57</td>\n",
       "      <td>-91</td>\n",
       "      <td>-118</td>\n",
       "      <td>-131</td>\n",
       "      <td>-140</td>\n",
       "      <td>-148</td>\n",
       "      <td>1</td>\n",
       "    </tr>\n",
       "    <tr>\n",
       "      <th>2</th>\n",
       "      <td>373</td>\n",
       "      <td>555</td>\n",
       "      <td>580</td>\n",
       "      <td>548</td>\n",
       "      <td>502</td>\n",
       "      <td>433</td>\n",
       "      <td>348</td>\n",
       "      <td>276</td>\n",
       "      <td>216</td>\n",
       "      <td>182</td>\n",
       "      <td>...</td>\n",
       "      <td>-1032</td>\n",
       "      <td>-1108</td>\n",
       "      <td>-803</td>\n",
       "      <td>-377</td>\n",
       "      <td>-13</td>\n",
       "      <td>172</td>\n",
       "      <td>246</td>\n",
       "      <td>206</td>\n",
       "      <td>156</td>\n",
       "      <td>1</td>\n",
       "    </tr>\n",
       "    <tr>\n",
       "      <th>3</th>\n",
       "      <td>791</td>\n",
       "      <td>703</td>\n",
       "      <td>538</td>\n",
       "      <td>76</td>\n",
       "      <td>-535</td>\n",
       "      <td>-1065</td>\n",
       "      <td>-1297</td>\n",
       "      <td>-1018</td>\n",
       "      <td>-525</td>\n",
       "      <td>-13</td>\n",
       "      <td>...</td>\n",
       "      <td>-396</td>\n",
       "      <td>135</td>\n",
       "      <td>493</td>\n",
       "      <td>601</td>\n",
       "      <td>559</td>\n",
       "      <td>400</td>\n",
       "      <td>193</td>\n",
       "      <td>3</td>\n",
       "      <td>-141</td>\n",
       "      <td>1</td>\n",
       "    </tr>\n",
       "    <tr>\n",
       "      <th>4</th>\n",
       "      <td>436</td>\n",
       "      <td>473</td>\n",
       "      <td>508</td>\n",
       "      <td>546</td>\n",
       "      <td>587</td>\n",
       "      <td>615</td>\n",
       "      <td>623</td>\n",
       "      <td>615</td>\n",
       "      <td>596</td>\n",
       "      <td>574</td>\n",
       "      <td>...</td>\n",
       "      <td>637</td>\n",
       "      <td>644</td>\n",
       "      <td>646</td>\n",
       "      <td>650</td>\n",
       "      <td>656</td>\n",
       "      <td>653</td>\n",
       "      <td>648</td>\n",
       "      <td>628</td>\n",
       "      <td>608</td>\n",
       "      <td>1</td>\n",
       "    </tr>\n",
       "  </tbody>\n",
       "</table>\n",
       "<p>5 rows × 179 columns</p>\n",
       "</div>"
      ],
      "text/plain": [
       "   sensor_0  sensor_1  sensor_2  sensor_3  sensor_4  sensor_5  sensor_6  \\\n",
       "0       232       183       125        47       -32       -73      -105   \n",
       "1       284       276       268       261       254       241       232   \n",
       "2       373       555       580       548       502       433       348   \n",
       "3       791       703       538        76      -535     -1065     -1297   \n",
       "4       436       473       508       546       587       615       623   \n",
       "\n",
       "   sensor_7  sensor_8  sensor_9  ...  sensor_169  sensor_170  sensor_171  \\\n",
       "0       -99       -72       -33  ...        -202        -303        -365   \n",
       "1       223       212       206  ...          64          15         -19   \n",
       "2       276       216       182  ...       -1032       -1108        -803   \n",
       "3     -1018      -525       -13  ...        -396         135         493   \n",
       "4       615       596       574  ...         637         644         646   \n",
       "\n",
       "   sensor_172  sensor_173  sensor_174  sensor_175  sensor_176  sensor_177  \\\n",
       "0        -389        -406        -401        -366        -251        -143   \n",
       "1         -57         -91        -118        -131        -140        -148   \n",
       "2        -377         -13         172         246         206         156   \n",
       "3         601         559         400         193           3        -141   \n",
       "4         650         656         653         648         628         608   \n",
       "\n",
       "   seizure  \n",
       "0        1  \n",
       "1        1  \n",
       "2        1  \n",
       "3        1  \n",
       "4        1  \n",
       "\n",
       "[5 rows x 179 columns]"
      ]
     },
     "execution_count": 3,
     "metadata": {},
     "output_type": "execute_result"
    }
   ],
   "source": [
    "from aiqc import datum\n",
    "df = datum.to_df('epilepsy.parquet')\n",
    "df.sample(5)"
   ]
  },
  {
   "cell_type": "code",
   "execution_count": null,
   "id": "9f979991-b2c5-4325-8db9-4afac82daed2",
   "metadata": {},
   "outputs": [],
   "source": [
    "from aiqc.orm import Dataset"
   ]
  },
  {
   "cell_type": "code",
   "execution_count": 4,
   "id": "65929bed-aff7-49a9-b506-0c4c951feaf2",
   "metadata": {},
   "outputs": [],
   "source": [
    "label_df = df[['seizure']]\n",
    "label_dataset = Dataset.Tabular.from_df(label_df)"
   ]
  },
  {
   "cell_type": "code",
   "execution_count": 5,
   "id": "a27c2403-9b07-461c-b241-7bda17da3204",
   "metadata": {},
   "outputs": [
    {
     "name": "stderr",
     "output_type": "stream",
     "text": [
      "⏱️ Ingesting Sequences 🧬: 100%|████████████████| 1000/1000 [00:05<00:00, 175.43it/s]\n"
     ]
    }
   ],
   "source": [
    "seq_3D = df.drop(columns=['seizure']).to_numpy().reshape(1000,178,1)\n",
    "feature_dataset = Dataset.Sequence.from_numpy(arr3D_or_npyPath=seq_3D)"
   ]
  },
  {
   "cell_type": "markdown",
   "id": "unlike-killing",
   "metadata": {},
   "source": [
    "---"
   ]
  },
  {
   "cell_type": "markdown",
   "id": "6829fc16-1c5b-4bbc-ac02-784786df0dcf",
   "metadata": {},
   "source": [
    "## 🚰 Pipeline"
   ]
  },
  {
   "cell_type": "markdown",
   "id": "simple-lafayette",
   "metadata": {},
   "source": [
    "Reference [High-Level API Docs](../../api_high_level.ipynb) for more information."
   ]
  },
  {
   "cell_type": "code",
   "execution_count": 9,
   "id": "87274275-3c5b-4492-82e4-4aae0b817c2f",
   "metadata": {
    "tags": []
   },
   "outputs": [],
   "source": [
    "from aiqc.mlops import Pipeline, Input, Target, Stratifier\n",
    "from sklearn.preprocessing import StandardScaler, LabelBinarizer"
   ]
  },
  {
   "cell_type": "code",
   "execution_count": 10,
   "id": "5bd766e4-b14b-4c9c-a4ec-3a9b2e158785",
   "metadata": {},
   "outputs": [
    {
     "name": "stdout",
     "output_type": "stream",
     "text": [
      "\n",
      "└── Info - System overriding user input to set `sklearn_preprocess.copy=False`.\n",
      "\tThis saves memory when concatenating the output of many encoders.\n",
      "\n"
     ]
    }
   ],
   "source": [
    "pipeline = Pipeline(\n",
    "    Input(\n",
    "        dataset  = feature_dataset,\n",
    "        encoders = Input.Encoder(StandardScaler(), dtypes=['int64'])\n",
    "    ),\n",
    "        \n",
    "    Target(\n",
    "        dataset = label_dataset,\n",
    "        column  = 'seizure',\n",
    "        encoder = Target.Encoder(LabelBinarizer())\n",
    "    ),\n",
    "\n",
    "    Stratifier(\n",
    "        size_test       = 0.12,\n",
    "        size_validation = 0.22\n",
    "    )\n",
    ")"
   ]
  },
  {
   "cell_type": "markdown",
   "id": "7bc286ca-6c92-4e21-af28-8239ca6fe422",
   "metadata": {},
   "source": [
    "---"
   ]
  },
  {
   "cell_type": "markdown",
   "id": "3a1c8158-b212-4918-b041-029487f4a490",
   "metadata": {},
   "source": [
    "## 🧪 Experiment"
   ]
  },
  {
   "cell_type": "markdown",
   "id": "24297da8-08e2-43bc-b8c4-311e2e3fbeac",
   "metadata": {},
   "source": [
    "Reference [High-Level API Docs](../../api_high_level.ipynb) for more information."
   ]
  },
  {
   "cell_type": "code",
   "execution_count": 11,
   "id": "7ba9a1a5-258c-404a-94ed-920fabc14536",
   "metadata": {},
   "outputs": [],
   "source": [
    "from aiqc.mlops import Experiment, Architecture, Trainer\n",
    "import tensorflow as tf\n",
    "from tensorflow.keras import layers as l"
   ]
  },
  {
   "cell_type": "code",
   "execution_count": 13,
   "id": "24b73534-8d82-4dae-af56-ddc3fa2a9c84",
   "metadata": {},
   "outputs": [],
   "source": [
    "def fn_build(features_shape, label_shape, **hp):    \n",
    "    m = tf.keras.models.Sequential()\n",
    "    m.add(l.LSTM(hp['neuron_count'], input_shape=features_shape))\n",
    "    m.add(l.Dense(units=label_shape[0], activation='sigmoid'))\n",
    "    return m"
   ]
  },
  {
   "cell_type": "code",
   "execution_count": 14,
   "id": "designed-cardiff",
   "metadata": {},
   "outputs": [],
   "source": [
    "def fn_train(\n",
    "    model, loser, optimizer,\n",
    "    train_features, train_label,\n",
    "    eval_features, eval_label,\n",
    "    **hp\n",
    "):\n",
    "    model.compile(\n",
    "        loss        = loser\n",
    "        , optimizer = optimizer\n",
    "        , metrics   = ['accuracy']\n",
    "    )\n",
    "    model.fit(\n",
    "        train_features, train_label\n",
    "        , validation_data = (eval_features, eval_label)\n",
    "        , verbose         = 0\n",
    "        , batch_size      = hp['batch_size']\n",
    "        , epochs          = hp['epochs']\n",
    "        , callbacks       = [tf.keras.callbacks.History()]\n",
    "    )\n",
    "    return model"
   ]
  },
  {
   "cell_type": "code",
   "execution_count": 15,
   "id": "happy-vocabulary",
   "metadata": {},
   "outputs": [],
   "source": [
    "hyperparameters = dict(\n",
    "    neuron_count = [25],\n",
    "    batch_size   = [8],\n",
    "    epochs       = [5, 10]\n",
    ")"
   ]
  },
  {
   "cell_type": "code",
   "execution_count": 16,
   "id": "943f977b-4a4d-44df-9294-16a3a2a4b8d0",
   "metadata": {},
   "outputs": [],
   "source": [
    "experiment = Experiment(\n",
    "    Architecture(\n",
    "        library           = \"keras\"\n",
    "        , analysis_type   = \"classification_binary\"\n",
    "        , fn_build        = fn_build\n",
    "        , fn_train        = fn_train\n",
    "        , hyperparameters = hyperparameters\n",
    "    ),\n",
    "    \n",
    "    Trainer(\n",
    "        pipeline     = pipeline,\n",
    "        repeat_count = 1\n",
    "    )\n",
    ")"
   ]
  },
  {
   "cell_type": "code",
   "execution_count": 17,
   "id": "present-festival",
   "metadata": {},
   "outputs": [
    {
     "name": "stderr",
     "output_type": "stream",
     "text": [
      "📦 Caching Splits 📦: 100%|██████████████████████████████████████████| 3/3 [00:00<00:00, 238.55it/s]\n",
      "🔮 Training Models 🔮: 100%|██████████████████████████████████████████| 2/2 [01:08<00:00, 34.30s/it]\n"
     ]
    }
   ],
   "source": [
    "experiment.run_jobs()"
   ]
  },
  {
   "cell_type": "markdown",
   "id": "982753f9-d958-4c0d-aee7-2cae42a28314",
   "metadata": {},
   "source": [
    "---"
   ]
  },
  {
   "cell_type": "markdown",
   "id": "1a9a86ad-14bd-482a-aca7-d7017d3b7563",
   "metadata": {},
   "source": [
    "## 📊 Visualization & Interpretation"
   ]
  },
  {
   "cell_type": "markdown",
   "id": "467b5949-baa2-4974-ae12-6c9605f42531",
   "metadata": {},
   "source": [
    "For more information on visualization of performance metrics, reference the [Dashboard](../../dashboard.html) documentation."
   ]
  }
 ],
 "metadata": {
  "kernelspec": {
   "display_name": "Python 3 (ipykernel)",
   "language": "python",
   "name": "python3"
  },
  "language_info": {
   "codemirror_mode": {
    "name": "ipython",
    "version": 3
   },
   "file_extension": ".py",
   "mimetype": "text/x-python",
   "name": "python",
   "nbconvert_exporter": "python",
   "pygments_lexer": "ipython3",
   "version": "3.7.16"
  }
 },
 "nbformat": 4,
 "nbformat_minor": 5
}
