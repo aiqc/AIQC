{
 "cells": [
  {
   "cell_type": "markdown",
   "id": "parental-berkeley",
   "metadata": {},
   "source": [
    "# PyTorch: Tabular Regression"
   ]
  },
  {
   "cell_type": "markdown",
   "id": "6f5d3fbb-ba2a-49ee-ab24-54acca3e3657",
   "metadata": {},
   "source": [
    "*Predicting Exoplanet Surface Temperature Using Kepler Satellite Sensor Data.*"
   ]
  },
  {
   "cell_type": "markdown",
   "id": "bb82feff-760f-43e7-9b0f-5b776abdd8a6",
   "metadata": {},
   "source": [
    "<img src=\"../../../_static/images/banner/planets.png\" class=\"banner-photo\"/>"
   ]
  },
  {
   "cell_type": "markdown",
   "id": "f9842693-37f3-454f-97b9-3895c755c032",
   "metadata": {},
   "source": [
    "## 💾 Data"
   ]
  },
  {
   "cell_type": "markdown",
   "id": "f4d80176-a5cf-4f8f-9e2f-4c9d5111956b",
   "metadata": {},
   "source": [
    "Reference [Example Datasets](../../datasets.html) for more information."
   ]
  },
  {
   "cell_type": "markdown",
   "id": "fde7e6f7-d3bc-4d63-9a4d-3de40eb21b01",
   "metadata": {},
   "source": [
    "This dataset is comprised of:\n",
    "\n",
    "* *Features* = characteristics of the planet in the context of its solar system.\n",
    "* *Label* = the temperature of the planet."
   ]
  },
  {
   "cell_type": "code",
   "execution_count": 2,
   "id": "ea6bcd3a-5558-41a2-ba41-165f6d740c40",
   "metadata": {},
   "outputs": [],
   "source": [
    "from aiqc import datum\n",
    "df = datum.to_df('exoplanets.parquet')"
   ]
  },
  {
   "cell_type": "code",
   "execution_count": 3,
   "id": "69de6ba7-fa14-4e72-a661-3bd6f6f43cce",
   "metadata": {},
   "outputs": [
    {
     "data": {
      "text/html": [
       "<div>\n",
       "<style scoped>\n",
       "    .dataframe tbody tr th:only-of-type {\n",
       "        vertical-align: middle;\n",
       "    }\n",
       "\n",
       "    .dataframe tbody tr th {\n",
       "        vertical-align: top;\n",
       "    }\n",
       "\n",
       "    .dataframe thead th {\n",
       "        text-align: right;\n",
       "    }\n",
       "</style>\n",
       "<table border=\"1\" class=\"dataframe\">\n",
       "  <thead>\n",
       "    <tr style=\"text-align: right;\">\n",
       "      <th></th>\n",
       "      <th>TypeFlag</th>\n",
       "      <th>PlanetaryMassJpt</th>\n",
       "      <th>PeriodDays</th>\n",
       "      <th>SurfaceTempK</th>\n",
       "      <th>DistFromSunParsec</th>\n",
       "      <th>HostStarMassSlrMass</th>\n",
       "      <th>HostStarRadiusSlrRad</th>\n",
       "      <th>HostStarMetallicity</th>\n",
       "      <th>HostStarTempK</th>\n",
       "    </tr>\n",
       "  </thead>\n",
       "  <tbody>\n",
       "    <tr>\n",
       "      <th>5</th>\n",
       "      <td>0</td>\n",
       "      <td>0.2500</td>\n",
       "      <td>19.224180</td>\n",
       "      <td>707.2</td>\n",
       "      <td>650.00</td>\n",
       "      <td>1.070</td>\n",
       "      <td>1.0200</td>\n",
       "      <td>0.12</td>\n",
       "      <td>5777.0</td>\n",
       "    </tr>\n",
       "    <tr>\n",
       "      <th>6</th>\n",
       "      <td>0</td>\n",
       "      <td>0.1700</td>\n",
       "      <td>39.031060</td>\n",
       "      <td>557.9</td>\n",
       "      <td>650.00</td>\n",
       "      <td>1.070</td>\n",
       "      <td>1.0200</td>\n",
       "      <td>0.12</td>\n",
       "      <td>5777.0</td>\n",
       "    </tr>\n",
       "    <tr>\n",
       "      <th>7</th>\n",
       "      <td>0</td>\n",
       "      <td>0.0220</td>\n",
       "      <td>1.592851</td>\n",
       "      <td>1601.5</td>\n",
       "      <td>650.00</td>\n",
       "      <td>1.070</td>\n",
       "      <td>1.0200</td>\n",
       "      <td>0.12</td>\n",
       "      <td>5777.0</td>\n",
       "    </tr>\n",
       "    <tr>\n",
       "      <th>15</th>\n",
       "      <td>0</td>\n",
       "      <td>1.2400</td>\n",
       "      <td>2.705782</td>\n",
       "      <td>2190.0</td>\n",
       "      <td>200.00</td>\n",
       "      <td>1.630</td>\n",
       "      <td>2.1800</td>\n",
       "      <td>0.12</td>\n",
       "      <td>6490.0</td>\n",
       "    </tr>\n",
       "    <tr>\n",
       "      <th>16</th>\n",
       "      <td>0</td>\n",
       "      <td>0.0195</td>\n",
       "      <td>1.580404</td>\n",
       "      <td>604.0</td>\n",
       "      <td>14.55</td>\n",
       "      <td>0.176</td>\n",
       "      <td>0.2213</td>\n",
       "      <td>0.10</td>\n",
       "      <td>3250.0</td>\n",
       "    </tr>\n",
       "  </tbody>\n",
       "</table>\n",
       "</div>"
      ],
      "text/plain": [
       "    TypeFlag  PlanetaryMassJpt  PeriodDays  SurfaceTempK  DistFromSunParsec  \\\n",
       "5          0            0.2500   19.224180         707.2             650.00   \n",
       "6          0            0.1700   39.031060         557.9             650.00   \n",
       "7          0            0.0220    1.592851        1601.5             650.00   \n",
       "15         0            1.2400    2.705782        2190.0             200.00   \n",
       "16         0            0.0195    1.580404         604.0              14.55   \n",
       "\n",
       "    HostStarMassSlrMass  HostStarRadiusSlrRad  HostStarMetallicity  \\\n",
       "5                 1.070                1.0200                 0.12   \n",
       "6                 1.070                1.0200                 0.12   \n",
       "7                 1.070                1.0200                 0.12   \n",
       "15                1.630                2.1800                 0.12   \n",
       "16                0.176                0.2213                 0.10   \n",
       "\n",
       "    HostStarTempK  \n",
       "5          5777.0  \n",
       "6          5777.0  \n",
       "7          5777.0  \n",
       "15         6490.0  \n",
       "16         3250.0  "
      ]
     },
     "execution_count": 3,
     "metadata": {},
     "output_type": "execute_result"
    }
   ],
   "source": [
    "from aiqc.orm import Dataset\n",
    "shared_dataset = Dataset.Tabular.from_df(df)\n",
    "df.sample(5)"
   ]
  },
  {
   "cell_type": "markdown",
   "id": "announced-project",
   "metadata": {},
   "source": [
    "---"
   ]
  },
  {
   "cell_type": "markdown",
   "id": "9c79faad-10a2-440c-9c60-da7f17e5e7cb",
   "metadata": {},
   "source": [
    "## 🚰 Pipeline"
   ]
  },
  {
   "cell_type": "markdown",
   "id": "c68881ea-80b6-4a7b-8563-1b799c75ee84",
   "metadata": {},
   "source": [
    "Reference [High-Level API Docs](../../api_high_level.ipynb) for more information."
   ]
  },
  {
   "cell_type": "code",
   "execution_count": 4,
   "id": "7befdd7e-330f-46ff-97bc-c2d26d2f8c3f",
   "metadata": {
    "tags": []
   },
   "outputs": [],
   "source": [
    "from aiqc.mlops import Pipeline, Input, Target, Stratifier\n",
    "from sklearn.preprocessing import StandardScaler, RobustScaler, OneHotEncoder"
   ]
  },
  {
   "cell_type": "code",
   "execution_count": 5,
   "id": "21284d44-441d-4f0e-b9bf-75d593f23610",
   "metadata": {},
   "outputs": [
    {
     "name": "stdout",
     "output_type": "stream",
     "text": [
      "\n",
      "└── Info - System overriding user input to set `sklearn_preprocess.copy=False`.\n",
      "\tThis saves memory when concatenating the output of many encoders.\n",
      "\n",
      "\n",
      "└── Info - System overriding user input to set `sklearn_preprocess.copy=False`.\n",
      "\tThis saves memory when concatenating the output of many encoders.\n",
      "\n",
      "\n",
      "└── Info - System overriding user input to set `sklearn_preprocess.sparse=False`.\n",
      "\tThis would have generated 'scipy.sparse.csr.csr_matrix', causing Keras training to fail.\n",
      "\n"
     ]
    }
   ],
   "source": [
    "pipeline = Pipeline(\n",
    "    Input(\n",
    "        dataset  = shared_dataset,\n",
    "        encoders = [\n",
    "            Input.Encoder(\n",
    "                RobustScaler(),\n",
    "                dtypes = ['float64']\n",
    "            ),\n",
    "            Input.Encoder(\n",
    "                OneHotEncoder(),\n",
    "                dtypes = ['int64']\n",
    "            )\n",
    "        ]\n",
    "    ),\n",
    "        \n",
    "    Target(\n",
    "        dataset = shared_dataset\n",
    "        , column  = 'SurfaceTempK'\n",
    "        , encoder = Target.Encoder(StandardScaler())\n",
    "    ),\n",
    "\n",
    "    Stratifier(\n",
    "        size_test         = 0.12\n",
    "        , size_validation = 0.22\n",
    "        , fold_count      = None\n",
    "        , bin_count       = 4\n",
    "    )\n",
    ")"
   ]
  },
  {
   "cell_type": "markdown",
   "id": "a1e67334-088d-4a35-aa03-dba39e0967de",
   "metadata": {},
   "source": [
    "---"
   ]
  },
  {
   "cell_type": "markdown",
   "id": "5d195a5c-6cfd-4483-a905-572e5e5ce1d1",
   "metadata": {},
   "source": [
    "## 🧪 Experiment"
   ]
  },
  {
   "cell_type": "markdown",
   "id": "1e76b325-fc9d-495f-9733-6ab60c8a84d0",
   "metadata": {},
   "source": [
    "Reference [High-Level API Docs](../../api_high_level.ipynb) for more information."
   ]
  },
  {
   "cell_type": "code",
   "execution_count": 6,
   "id": "6d18eb73-2987-4450-b710-76f838149f11",
   "metadata": {},
   "outputs": [],
   "source": [
    "from aiqc.mlops import Experiment, Architecture, Trainer\n",
    "import torch.nn as nn\n",
    "from torch import optim\n",
    "import torchmetrics as tm\n",
    "from aiqc.utils.pytorch import fit"
   ]
  },
  {
   "cell_type": "code",
   "execution_count": 20,
   "id": "fa977358-6857-4183-8c14-89594fa36306",
   "metadata": {},
   "outputs": [],
   "source": [
    "def fn_build(features_shape, label_shape, **hp):\n",
    "    # Just giving hyperparameter a shorter reference.\n",
    "    nc = hp['neuron_count']\n",
    "\n",
    "    model = nn.Sequential(\n",
    "        # --- Input/Hidden Layer ---\n",
    "        nn.Linear(features_shape[-1], nc)\n",
    "        , nn.BatchNorm1d(nc,nc)\n",
    "        , nn.ReLU()\n",
    "        , nn.Dropout(p=0.4)\n",
    "        \n",
    "        # --- Hidden Layer ---\n",
    "        , nn.Linear(nc, nc)\n",
    "        , nn.BatchNorm1d(nc,nc)\n",
    "        , nn.ReLU()\n",
    "        , nn.Dropout(p=0.4)\n",
    "\n",
    "        # --- Output Layer ---\n",
    "        , nn.Linear(nc, label_shape[-1])\n",
    "    )\n",
    "    return model"
   ]
  },
  {
   "cell_type": "code",
   "execution_count": 21,
   "id": "contained-uruguay",
   "metadata": {},
   "outputs": [],
   "source": [
    "def fn_train(\n",
    "    model, loser, optimizer,\n",
    "    train_features, train_label,\n",
    "    eval_features, eval_label,\n",
    "    **hp\n",
    "):\n",
    "    model = fit(\n",
    "        model, loser, optimizer, \n",
    "        train_features, train_label,\n",
    "        eval_features, eval_label\n",
    "        , epochs     = 30\n",
    "        , batch_size = 5\n",
    "        , metrics    = [tm.MeanSquaredError(), tm.R2Score()]\n",
    "    )\n",
    "    return model"
   ]
  },
  {
   "cell_type": "markdown",
   "id": "working-indiana",
   "metadata": {},
   "source": [
    "Optional, will be automatically selected based on `analysis_type` if left as `None`."
   ]
  },
  {
   "cell_type": "code",
   "execution_count": 22,
   "id": "korean-jonathan",
   "metadata": {},
   "outputs": [],
   "source": [
    "def fn_lose(**hp):\n",
    "    if (hp['loss_type'] == 'mae'):\n",
    "        loser = nn.L1Loss()#mean absolute error.\n",
    "    elif (hp['loss_type'] == 'mse'):\n",
    "        loser = nn.MSELoss()\n",
    "    return loser"
   ]
  },
  {
   "cell_type": "code",
   "execution_count": 23,
   "id": "bridal-snapshot",
   "metadata": {},
   "outputs": [],
   "source": [
    "hyperparameters = dict(\n",
    "    neuron_count=[22,24], loss_type=[\"mae\",\"mse\"]\n",
    ")"
   ]
  },
  {
   "cell_type": "code",
   "execution_count": 24,
   "id": "e907feb0-50ea-4519-a728-0f000dd54a18",
   "metadata": {},
   "outputs": [],
   "source": [
    "experiment = Experiment(\n",
    "    Architecture(\n",
    "        library           = \"pytorch\"\n",
    "        , analysis_type   = \"regression\"\n",
    "        , fn_build        = fn_build\n",
    "        , fn_train        = fn_train\n",
    "        , hyperparameters = hyperparameters\n",
    "    ),\n",
    "    \n",
    "    Trainer(pipeline=pipeline, repeat_count=1)\n",
    ")"
   ]
  },
  {
   "cell_type": "code",
   "execution_count": 25,
   "id": "southwest-heaven",
   "metadata": {},
   "outputs": [
    {
     "name": "stderr",
     "output_type": "stream",
     "text": [
      "🔮 Training Models 🔮: 100%|██████████████████████████████████████████| 4/4 [00:13<00:00,  3.36s/it]\n"
     ]
    }
   ],
   "source": [
    "experiment.run_jobs()"
   ]
  },
  {
   "cell_type": "markdown",
   "id": "0f8e588a-22fd-408f-9f0b-03bec1c1cdad",
   "metadata": {},
   "source": [
    "---"
   ]
  },
  {
   "cell_type": "markdown",
   "id": "a360a899-4d1c-4cda-8305-0e679c1ea72e",
   "metadata": {},
   "source": [
    "## 📊 Visualization & Interpretation"
   ]
  },
  {
   "cell_type": "markdown",
   "id": "c58b58a7-ace0-4e76-b6d0-93f3c0606479",
   "metadata": {},
   "source": [
    "For more information on visualization of performance metrics, reference the [Dashboard](../../dashboard.html) documentation."
   ]
  }
 ],
 "metadata": {
  "kernelspec": {
   "display_name": "Python 3 (ipykernel)",
   "language": "python",
   "name": "python3"
  },
  "language_info": {
   "codemirror_mode": {
    "name": "ipython",
    "version": 3
   },
   "file_extension": ".py",
   "mimetype": "text/x-python",
   "name": "python",
   "nbconvert_exporter": "python",
   "pygments_lexer": "ipython3",
   "version": "3.7.16"
  }
 },
 "nbformat": 4,
 "nbformat_minor": 5
}
