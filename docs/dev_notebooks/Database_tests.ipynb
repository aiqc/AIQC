{
 "cells": [
  {
   "cell_type": "code",
   "execution_count": 4,
   "id": "challenging-sullivan",
   "metadata": {},
   "outputs": [],
   "source": [
    "import os; os.chdir('../..');"
   ]
  },
  {
   "cell_type": "markdown",
   "id": "integrated-sampling",
   "metadata": {},
   "source": [
    "---"
   ]
  },
  {
   "cell_type": "code",
   "execution_count": 6,
   "id": "wound-commodity",
   "metadata": {},
   "outputs": [
    {
     "data": {
      "text/plain": [
       "'/Users/BernardoFernandes/Documents/GitHub/AIQC'"
      ]
     },
     "execution_count": 6,
     "metadata": {},
     "output_type": "execute_result"
    }
   ],
   "source": [
    "pwd"
   ]
  },
  {
   "cell_type": "code",
   "execution_count": 7,
   "id": "coupled-sussex",
   "metadata": {},
   "outputs": [
    {
     "name": "stdout",
     "output_type": "stream",
     "text": [
      "\u001b[33mWARNING: Package(s) not found: aiqc\u001b[0m\n",
      "Note: you may need to restart the kernel to use updated packages.\n"
     ]
    }
   ],
   "source": [
    "pip show aiqc"
   ]
  },
  {
   "cell_type": "markdown",
   "id": "cloudy-induction",
   "metadata": {},
   "source": [
    "---"
   ]
  },
  {
   "cell_type": "code",
   "execution_count": 8,
   "id": "informed-authority",
   "metadata": {},
   "outputs": [],
   "source": [
    "import aiqc"
   ]
  },
  {
   "cell_type": "code",
   "execution_count": 9,
   "id": "pleasant-latin",
   "metadata": {},
   "outputs": [
    {
     "data": {
      "text/plain": [
       "'/Users/BernardoFernandes/Documents/GitHub/AIQC/aiqc/__init__.py'"
      ]
     },
     "execution_count": 9,
     "metadata": {},
     "output_type": "execute_result"
    }
   ],
   "source": [
    "aiqc.__file__"
   ]
  },
  {
   "cell_type": "code",
   "execution_count": 10,
   "id": "first-torture",
   "metadata": {},
   "outputs": [
    {
     "name": "stdout",
     "output_type": "stream",
     "text": [
      "\n",
      "=> Success - the following file path already exists on your system:\n",
      "/Users/BernardoFernandes/Library/Application Support/aiqc/\n",
      "\n",
      "\n",
      "=> Info - skipping folder creation as folder already exists at file path:\n",
      "/Users/BernardoFernandes/Library/Application Support/aiqc/\n",
      "\n",
      "\n",
      "=> Success - the following file path already exists on your system:\n",
      "/Users/BernardoFernandes/Library/Application Support/aiqc/\n",
      "\n",
      "\n",
      "=> Info - skipping as config file already exists at path:\n",
      "/Users/BernardoFernandes/Library/Application Support/aiqc/config.json\n",
      "\n",
      "\n",
      "=> Next run `aiqc.create_db()`.\n",
      "\n",
      "\n",
      "=> Success - created database file at path:\n",
      "/Users/BernardoFernandes/Library/Application Support/aiqc/experiment_1_db_tests.sqlite3\n",
      "\n",
      "\n",
      "💾  Success - created all database tables.  💾\n",
      "\n"
     ]
    }
   ],
   "source": [
    "aiqc.setup()"
   ]
  },
  {
   "cell_type": "code",
   "execution_count": 11,
   "id": "color-patch",
   "metadata": {},
   "outputs": [
    {
     "name": "stdout",
     "output_type": "stream",
     "text": [
      "\n",
      "=> Success - deleted database file at path:\n",
      "/Users/BernardoFernandes/Library/Application Support/aiqc/experiment_1_db_tests.sqlite3\n",
      "\n"
     ]
    }
   ],
   "source": [
    "db = aiqc.Database()\n",
    "\n",
    "db.destroy_db(confirm=True)"
   ]
  },
  {
   "cell_type": "code",
   "execution_count": 12,
   "id": "a50fcdac",
   "metadata": {},
   "outputs": [
    {
     "name": "stdout",
     "output_type": "stream",
     "text": [
      "\n",
      "=> Success - updated configuration settings:\n",
      "{'created_at': '2021-04-05 13:03:44.353814', 'config_path': '/Users/BernardoFernandes/Library/Application Support/aiqc/config.json', 'db_path': '/Users/BernardoFernandes/Library/Application Support/aiqc/experiment_2_db_tests.sqlite3', 'sys.version': '3.8.2 (default, Dec 21 2020, 15:06:04) \\n[Clang 12.0.0 (clang-1200.0.32.29)]', 'platform.python_implementation()': 'CPython', 'sys.prefix': '/Users/BernardoFernandes/Documents/GitHub/aiqc/venv', 'os.name': 'posix', 'platform.version()': 'Darwin Kernel Version 20.3.0: Thu Jan 21 00:07:06 PST 2021; root:xnu-7195.81.3~1/RELEASE_X86_64', 'platform.java_ver()': ['', '', ['', '', ''], ['', '', '']], 'platform.win32_ver()': ['', '', '', ''], 'platform.libc_ver()': ['', ''], 'platform.mac_ver()': ['11.2.3', ['', '', ''], 'x86_64']}\n",
      "\n",
      "\n",
      "=> Success - created database file at path:\n",
      "/Users/BernardoFernandes/Library/Application Support/aiqc/experiment_2_db_tests.sqlite3\n",
      "\n",
      "\n",
      "💾  Success - created all database tables.  💾\n",
      "\n"
     ]
    }
   ],
   "source": [
    "db.new_db(\"db_tests\")"
   ]
  },
  {
   "cell_type": "markdown",
   "id": "union-recycling",
   "metadata": {},
   "source": [
    "---"
   ]
  },
  {
   "cell_type": "code",
   "execution_count": null,
   "id": "18bb302d",
   "metadata": {},
   "outputs": [],
   "source": [
    "from aiqc import tests"
   ]
  },
  {
   "cell_type": "code",
   "execution_count": 14,
   "id": "aboriginal-garage",
   "metadata": {},
   "outputs": [
    {
     "name": "stdout",
     "output_type": "stream",
     "text": [
      "\n",
      "___/ featurecoder_index: 0 \\_________\n",
      "\n",
      "=> The column(s) below matched your filter(s) and were ran through a test-encoding successfully.\n",
      "\n",
      "['crim', 'zn', 'indus', 'nox', 'rm', 'age', 'dis', 'ptratio', 'lstat']\n",
      "\n",
      "=> The remaining column(s) and dtype(s) can be used in downstream Featurecoder(s):\n",
      "{'chas': 'int64', 'rad': 'int64', 'tax': 'int64'}\n",
      "\n",
      "\n",
      "___/ featurecoder_index: 1 \\_________\n",
      "\n",
      "=> The column(s) below matched your filter(s) and were ran through a test-encoding successfully.\n",
      "\n",
      "['chas', 'rad', 'tax']\n",
      "\n",
      "=> Done. All feature column(s) have encoder(s) associated with them.\n",
      "No more Featurecoders can be added to this Encoderset.\n",
      "\n"
     ]
    }
   ],
   "source": [
    "pytorch_reg_queue = tests.make_test_queue('pytorch_regression', repeat_count=1)"
   ]
  },
  {
   "cell_type": "code",
   "execution_count": 15,
   "id": "removed-study",
   "metadata": {
    "tags": []
   },
   "outputs": [
    {
     "name": "stderr",
     "output_type": "stream",
     "text": [
      "🔮 Training Models 🔮: 100%|██████████████████████████████████████████| 4/4 [00:34<00:00,  8.52s/it]\n"
     ]
    }
   ],
   "source": [
    "pytorch_reg_queue.run_jobs()"
   ]
  },
  {
   "cell_type": "markdown",
   "id": "appropriate-tracy",
   "metadata": {},
   "source": [
    "---"
   ]
  },
  {
   "cell_type": "code",
   "execution_count": 17,
   "id": "168dc6f4",
   "metadata": {},
   "outputs": [],
   "source": [
    "import sqlite3"
   ]
  },
  {
   "cell_type": "code",
   "execution_count": 18,
   "id": "f54c2584",
   "metadata": {},
   "outputs": [
    {
     "data": {
      "text/plain": [
       "'/Users/BernardoFernandes/Library/Application Support/aiqc/experiment_2_db_tests.sqlite3'"
      ]
     },
     "execution_count": 18,
     "metadata": {},
     "output_type": "execute_result"
    }
   ],
   "source": [
    "db_path = db.db_path\n",
    "\n",
    "db_path"
   ]
  },
  {
   "cell_type": "code",
   "execution_count": 19,
   "id": "46e780fb",
   "metadata": {},
   "outputs": [],
   "source": [
    "con = sqlite3.connect(db_path)\n",
    "\n",
    "cur = con.cursor()"
   ]
  },
  {
   "cell_type": "code",
   "execution_count": 22,
   "id": "3d538b5a",
   "metadata": {},
   "outputs": [
    {
     "data": {
      "text/plain": [
       "(1,\n",
       " 1,\n",
       " 0,\n",
       " b'\\x80\\x05\\x95H\\x02\\x00\\x00\\x00\\x00\\x00\\x00\\x8c\\x1bsklearn.preprocessing._data\\x94\\x8c\\x10PowerTransformer\\x94\\x93\\x94)\\x81\\x94}\\x94(\\x8c\\x06method\\x94\\x8c\\x07box-cox\\x94\\x8c\\x0bstandardize\\x94\\x88\\x8c\\x04copy\\x94\\x89\\x8c\\x0en_features_in_\\x94K\\x01\\x8c\\x08lambdas_\\x94\\x8c\\x12numpy.core.numeric\\x94\\x8c\\x0b_frombuffer\\x94\\x93\\x94(\\x96\\x08\\x00\\x00\\x00\\x00\\x00\\x00\\x00C\\xaeV\\xd3;\\xba\\xcb?\\x94\\x8c\\x05numpy\\x94\\x8c\\x05dtype\\x94\\x93\\x94\\x8c\\x02f8\\x94\\x89\\x88\\x87\\x94R\\x94(K\\x03\\x8c\\x01<\\x94NNNJ\\xff\\xff\\xff\\xffJ\\xff\\xff\\xff\\xffK\\x00t\\x94bK\\x01\\x85\\x94\\x8c\\x01C\\x94t\\x94R\\x94\\x8c\\x07_scaler\\x94h\\x00\\x8c\\x0eStandardScaler\\x94\\x93\\x94)\\x81\\x94}\\x94(\\x8c\\twith_mean\\x94\\x88\\x8c\\x08with_std\\x94\\x88h\\x08\\x89h\\tK\\x01\\x8c\\x0fn_samples_seen_\\x94\\x8c\\x15numpy.core.multiarray\\x94\\x8c\\x06scalar\\x94\\x93\\x94h\\x11\\x8c\\x02i8\\x94\\x89\\x88\\x87\\x94R\\x94(K\\x03h\\x15NNNJ\\xff\\xff\\xff\\xffJ\\xff\\xff\\xff\\xffK\\x00t\\x94bC\\x08\\xfa\\x01\\x00\\x00\\x00\\x00\\x00\\x00\\x94\\x86\\x94R\\x94\\x8c\\x05mean_\\x94h\\r(\\x96\\x08\\x00\\x00\\x00\\x00\\x00\\x00\\x00\\xdbL{\\x0e\\x07N\\x11@\\x94h\\x14K\\x01\\x85\\x94h\\x18t\\x94R\\x94\\x8c\\x04var_\\x94h\\r(\\x96\\x08\\x00\\x00\\x00\\x00\\x00\\x00\\x00\\xacLzS\\x86\\x95\\xe3?\\x94h\\x14K\\x01\\x85\\x94h\\x18t\\x94R\\x94\\x8c\\x06scale_\\x94h\\r(\\x96\\x08\\x00\\x00\\x00\\x00\\x00\\x00\\x00~\\xcfjd\\xa6\\x08\\xe9?\\x94h\\x14K\\x01\\x85\\x94h\\x18t\\x94R\\x94\\x8c\\x10_sklearn_version\\x94\\x8c\\x060.24.1\\x94ubh<h=ub.',\n",
       " '[\"price\"]',\n",
       " '2D_multiColumn',\n",
       " 1)"
      ]
     },
     "execution_count": 22,
     "metadata": {},
     "output_type": "execute_result"
    }
   ],
   "source": [
    "query = \"SELECT * FROM labelcoder LIMIT 1\"\n",
    "\n",
    "result = cur.execute(query).fetchone()\n",
    "\n",
    "result"
   ]
  }
 ],
 "metadata": {
  "kernelspec": {
   "display_name": "Python 3",
   "language": "python",
   "name": "python3"
  },
  "language_info": {
   "codemirror_mode": {
    "name": "ipython",
    "version": 3
   },
   "file_extension": ".py",
   "mimetype": "text/x-python",
   "name": "python",
   "nbconvert_exporter": "python",
   "pygments_lexer": "ipython3",
   "version": "3.8.2"
  }
 },
 "nbformat": 4,
 "nbformat_minor": 5
}
