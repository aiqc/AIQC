{
 "cells": [
  {
   "cell_type": "markdown",
   "id": "global-sherman",
   "metadata": {},
   "source": [
    "# TensorFlow: Tabular Forecasting"
   ]
  },
  {
   "cell_type": "markdown",
   "id": "animated-philip",
   "metadata": {},
   "source": [
    "*Climate Forecasting Using a 2D Time Series of Multi-Variate Features Over Shifting Windows.*"
   ]
  },
  {
   "cell_type": "markdown",
   "id": "adequate-personal",
   "metadata": {},
   "source": [
    "<img src=\"../../../_static/images/banner/temps.png\" class=\"banner-photo\"/>"
   ]
  },
  {
   "cell_type": "markdown",
   "id": "hungry-franchise",
   "metadata": {},
   "source": [
    "Highly dimensional forecasting is another holy grail of deep learning. This process encodes information about the state of the future as a function of the states of the past. Here the learnable parameters of a neural network effectively serve as coefficients in an 'infinitely' long polynomial equation for predicting the future.\n",
    "\n",
    "Most tutorials in this space focus on the stock market. To be fair, the NYSE provides a reliable source of uniformly distributed, time-stamped data. However, in this example we'll examine the climate of Delhi in order to predict both it's temperature and humidity in the future.\n",
    "\n",
    "To do this, we'll use a sliding `aiqc.Window` wherein the past 25 days of data is used to predict the next 5 days of data. We'll study each 25 day interval (e.g. [0...24]) in the dataset and shift it forward by 5 days (e.g. [5...29]) to learn about the transformation it undergoes. \n",
    "\n",
    "> If you want to predict the *past* instead, switch `samples_train` to serve as the evaluation data with `samples_evaluate` as the training data."
   ]
  },
  {
   "cell_type": "markdown",
   "id": "critical-stress",
   "metadata": {},
   "source": [
    "---"
   ]
  },
  {
   "cell_type": "markdown",
   "id": "a4c7d85d-ec13-4a9d-94b3-7d46cf9a32e6",
   "metadata": {},
   "source": [
    "## 💾 Data"
   ]
  },
  {
   "cell_type": "markdown",
   "id": "88904d4f-4ce8-44ad-a0b6-35f479d52f5a",
   "metadata": {},
   "source": [
    "Reference [Example Datasets](../../datasets.html) for more information."
   ]
  },
  {
   "cell_type": "markdown",
   "id": "collectible-afghanistan",
   "metadata": {},
   "source": [
    "This dataset is comprised of:\n",
    "\n",
    "* *Features* = daily weather statistics (temperature, humidity, wind, pressure)."
   ]
  },
  {
   "cell_type": "code",
   "execution_count": 3,
   "id": "varied-bowling",
   "metadata": {},
   "outputs": [
    {
     "data": {
      "text/html": [
       "<div>\n",
       "<style scoped>\n",
       "    .dataframe tbody tr th:only-of-type {\n",
       "        vertical-align: middle;\n",
       "    }\n",
       "\n",
       "    .dataframe tbody tr th {\n",
       "        vertical-align: top;\n",
       "    }\n",
       "\n",
       "    .dataframe thead th {\n",
       "        text-align: right;\n",
       "    }\n",
       "</style>\n",
       "<table border=\"1\" class=\"dataframe\">\n",
       "  <thead>\n",
       "    <tr style=\"text-align: right;\">\n",
       "      <th></th>\n",
       "      <th>day_of_year</th>\n",
       "      <th>temperature</th>\n",
       "      <th>humidity</th>\n",
       "      <th>wind</th>\n",
       "      <th>pressure</th>\n",
       "    </tr>\n",
       "  </thead>\n",
       "  <tbody>\n",
       "    <tr>\n",
       "      <th>0</th>\n",
       "      <td>1</td>\n",
       "      <td>10.000000</td>\n",
       "      <td>84.500000</td>\n",
       "      <td>0.000000</td>\n",
       "      <td>1015.666667</td>\n",
       "    </tr>\n",
       "    <tr>\n",
       "      <th>1</th>\n",
       "      <td>2</td>\n",
       "      <td>7.400000</td>\n",
       "      <td>92.000000</td>\n",
       "      <td>2.980000</td>\n",
       "      <td>1017.800000</td>\n",
       "    </tr>\n",
       "    <tr>\n",
       "      <th>2</th>\n",
       "      <td>3</td>\n",
       "      <td>7.166667</td>\n",
       "      <td>87.000000</td>\n",
       "      <td>4.633333</td>\n",
       "      <td>1018.666667</td>\n",
       "    </tr>\n",
       "    <tr>\n",
       "      <th>3</th>\n",
       "      <td>4</td>\n",
       "      <td>8.666667</td>\n",
       "      <td>71.333333</td>\n",
       "      <td>1.233333</td>\n",
       "      <td>1017.166667</td>\n",
       "    </tr>\n",
       "    <tr>\n",
       "      <th>4</th>\n",
       "      <td>5</td>\n",
       "      <td>6.000000</td>\n",
       "      <td>86.833333</td>\n",
       "      <td>3.700000</td>\n",
       "      <td>1016.500000</td>\n",
       "    </tr>\n",
       "  </tbody>\n",
       "</table>\n",
       "</div>"
      ],
      "text/plain": [
       "   day_of_year  temperature   humidity      wind     pressure\n",
       "0            1    10.000000  84.500000  0.000000  1015.666667\n",
       "1            2     7.400000  92.000000  2.980000  1017.800000\n",
       "2            3     7.166667  87.000000  4.633333  1018.666667\n",
       "3            4     8.666667  71.333333  1.233333  1017.166667\n",
       "4            5     6.000000  86.833333  3.700000  1016.500000"
      ]
     },
     "execution_count": 3,
     "metadata": {},
     "output_type": "execute_result"
    }
   ],
   "source": [
    "from aiqc import datum\n",
    "df = datum.to_pandas('delhi_climate.parquet')\n",
    "df.sample(5)"
   ]
  },
  {
   "cell_type": "code",
   "execution_count": 2,
   "id": "d7e77810-e189-46c9-afb6-9ff43d8d3c26",
   "metadata": {},
   "outputs": [],
   "source": [
    "from aiqc.orm import Dataset\n",
    "dataset = Dataset.Tabular.from_df(df)"
   ]
  },
  {
   "cell_type": "code",
   "execution_count": 4,
   "id": "surprised-emphasis",
   "metadata": {},
   "outputs": [
    {
     "data": {
      "text/plain": [
       "<AxesSubplot:title={'center':'Temperature'}>"
      ]
     },
     "execution_count": 4,
     "metadata": {},
     "output_type": "execute_result"
    },
    {
     "data": {
      "image/png": "[encoded data removed]",
      "text/plain": [
       "<Figure size 432x288 with 1 Axes>"
      ]
     },
     "metadata": {
      "needs_background": "light"
     },
     "output_type": "display_data"
    }
   ],
   "source": [
    "df['temperature'].plot(title='Temperature')"
   ]
  },
  {
   "cell_type": "code",
   "execution_count": 5,
   "id": "decent-latino",
   "metadata": {},
   "outputs": [
    {
     "data": {
      "text/plain": [
       "<AxesSubplot:title={'center':'Humidity'}>"
      ]
     },
     "execution_count": 5,
     "metadata": {},
     "output_type": "execute_result"
    },
    {
     "data": {
      "image/png": "[encoded data removed]",
      "text/plain": [
       "<Figure size 432x288 with 1 Axes>"
      ]
     },
     "metadata": {
      "needs_background": "light"
     },
     "output_type": "display_data"
    }
   ],
   "source": [
    "df['humidity'].plot(title='Humidity')"
   ]
  },
  {
   "cell_type": "markdown",
   "id": "killing-printer",
   "metadata": {},
   "source": [
    "---"
   ]
  },
  {
   "cell_type": "markdown",
   "id": "5621ccba-7de5-402c-a685-e849b5a3abeb",
   "metadata": {},
   "source": [
    "## 🚰 Pipeline"
   ]
  },
  {
   "cell_type": "markdown",
   "id": "94d2543f-887a-406c-be5e-66117e2c8f2b",
   "metadata": {},
   "source": [
    "Reference [High-Level API Docs](../../api_high_level.ipynb) for more information."
   ]
  },
  {
   "cell_type": "code",
   "execution_count": 6,
   "id": "cca7e43d-3204-48cd-9237-61242a603ef0",
   "metadata": {},
   "outputs": [],
   "source": [
    "from aiqc.mlops import Pipeline, Input, Target, Stratifier\n",
    "from sklearn.preprocessing import RobustScaler, StandardScaler"
   ]
  },
  {
   "cell_type": "code",
   "execution_count": 7,
   "id": "89cbfa80-2055-4759-97e6-657907579b48",
   "metadata": {},
   "outputs": [
    {
     "name": "stdout",
     "output_type": "stream",
     "text": [
      "\n",
      "└── Info - System overriding user input to set `sklearn_preprocess.copy=False`.\n",
      "\tThis saves memory when concatenating the output of many encoders.\n",
      "\n"
     ]
    }
   ],
   "source": [
    "pipeline = Pipeline(\n",
    "    inputs = Input(\n",
    "        dataset         = dataset,\n",
    "        exclude_columns = ['pressure','wind'],\n",
    "        window          = Input.Window(size_window=25, size_shift=5),\n",
    "        encoders        = Input.Encoder(\n",
    "            StandardScaler(),\n",
    "            dtypes = ['float64', 'int64']\n",
    "        ),\n",
    "    ),\n",
    "\n",
    "    stratifier = Stratifier(\n",
    "        size_test       = 0.12,\n",
    "        size_validation = 0.18\n",
    "    )\n",
    ")"
   ]
  },
  {
   "cell_type": "markdown",
   "id": "a96ff0b6-31e0-41dd-aa3a-e138bb7b5e10",
   "metadata": {},
   "source": [
    "---"
   ]
  },
  {
   "cell_type": "markdown",
   "id": "8c71ed2b-acf1-44a1-87e4-da53c0c00925",
   "metadata": {},
   "source": [
    "## 🧪 Experiment"
   ]
  },
  {
   "cell_type": "markdown",
   "id": "7faa1440-ec54-4f7f-b667-e6a8e6571e85",
   "metadata": {},
   "source": [
    "Reference [High-Level API Docs](../../api_high_level.ipynb) for more information."
   ]
  },
  {
   "cell_type": "code",
   "execution_count": 8,
   "id": "3c0c1f49-37af-4fd5-864a-e4757ad10e2c",
   "metadata": {},
   "outputs": [],
   "source": [
    "from aiqc.mlops import Experiment, Architecture, Trainer\n",
    "import tensorflow as tf\n",
    "from tensorflow.keras import layers as l"
   ]
  },
  {
   "cell_type": "code",
   "execution_count": 9,
   "id": "c9a53104-62b0-44d7-b494-c9491cd67982",
   "metadata": {},
   "outputs": [],
   "source": [
    "def fn_build(features_shape, label_shape, **hp):\n",
    "    m = tf.keras.models.Sequential()\n",
    "    if hp['LSTM_2']:\n",
    "        m.add(l.LSTM(\n",
    "            hp['neuron_count']\n",
    "            , input_shape=(features_shape[0], features_shape[1])\n",
    "            , activation=hp['activation']\n",
    "            , return_sequences=True\n",
    "        ))\n",
    "        m.add(l.LSTM(\n",
    "            hp['neuron_count']\n",
    "            , activation=hp['activation']\n",
    "            , return_sequences=False\n",
    "        ))\n",
    "    else:\n",
    "        m.add(l.LSTM(\n",
    "            hp['neuron_count']\n",
    "            , input_shape=(features_shape[0], features_shape[1])\n",
    "            , activation=hp['activation']\n",
    "            , return_sequences=False\n",
    "        ))\n",
    "    # Automatically flattens.\n",
    "    m.add(l.Dense(label_shape[0]*label_shape[1]*hp['dense_multiplier'], activation=hp['activation']))\n",
    "    m.add(l.Dropout(0.3))\n",
    "    m.add(l.Dense(label_shape[0]*label_shape[1], activation=hp['activation'])) ### is this right shape?\n",
    "    m.add(l.Dropout(0.3))\n",
    "    # Reshape to be 3D.\n",
    "    m.add(l.Reshape((label_shape[0], label_shape[1])))\n",
    "    return m"
   ]
  },
  {
   "cell_type": "code",
   "execution_count": 10,
   "id": "super-validity",
   "metadata": {},
   "outputs": [],
   "source": [
    "def fn_train(\n",
    "    model, loser, optimizer,\n",
    "    train_features, train_label,\n",
    "    eval_features, eval_label,\n",
    "    **hp\n",
    "):\n",
    "    model.compile(\n",
    "        loss        = loser\n",
    "        , optimizer = optimizer\n",
    "        , metrics   = ['mean_squared_error']\n",
    "    )\n",
    "        \n",
    "    model.fit(\n",
    "        train_features, train_label\n",
    "        , validation_data = (eval_features, eval_label)\n",
    "        , verbose         = 0\n",
    "        , batch_size      = hp['batch_size']\n",
    "        , epochs          = hp['epochs']\n",
    "        , callbacks       = [tf.keras.callbacks.History()]\n",
    "    )\n",
    "    return model"
   ]
  },
  {
   "cell_type": "code",
   "execution_count": 11,
   "id": "laughing-generator",
   "metadata": {},
   "outputs": [],
   "source": [
    "hyperparameters = dict(\n",
    "    LSTM_2             = [False]\n",
    "    , activation       = ['tanh']\n",
    "    , neuron_count     = [6]\n",
    "    , batch_size       = [6]\n",
    "    , epochs           = [150]\n",
    "    , dense_multiplier = [1]\n",
    ")"
   ]
  },
  {
   "cell_type": "code",
   "execution_count": 12,
   "id": "5a7af7e9-8789-47c9-bda6-555650eaedcd",
   "metadata": {},
   "outputs": [],
   "source": [
    "experiment = Experiment(\n",
    "    Architecture(\n",
    "        library           = \"keras\"\n",
    "        , analysis_type   = \"regression\"\n",
    "        , fn_build        = fn_build\n",
    "        , fn_train        = fn_train\n",
    "        , hyperparameters = hyperparameters\n",
    "    ),\n",
    "    \n",
    "    Trainer(pipeline=pipeline, repeat_count=2)\n",
    ")"
   ]
  },
  {
   "cell_type": "code",
   "execution_count": 13,
   "id": "fantastic-plane",
   "metadata": {},
   "outputs": [
    {
     "name": "stderr",
     "output_type": "stream",
     "text": [
      "📦 Caching Splits 📦: 100%|██████████████████████████████████████████| 3/3 [00:00<00:00, 276.73it/s]\n",
      "🔮 Training Models 🔮: 100%|██████████████████████████████████████████| 2/2 [01:11<00:00, 35.89s/it]\n"
     ]
    }
   ],
   "source": [
    "experiment.run_jobs()"
   ]
  },
  {
   "cell_type": "markdown",
   "id": "international-canberra",
   "metadata": {},
   "source": [
    "---"
   ]
  },
  {
   "cell_type": "markdown",
   "id": "1446a246-9726-42c7-9f41-97fb983f3228",
   "metadata": {},
   "source": [
    "## 📊 Visualization & Interpretation"
   ]
  },
  {
   "cell_type": "markdown",
   "id": "63df3319-4c54-4eec-acc8-9cd690d2e113",
   "metadata": {},
   "source": [
    "For more information on visualization of performance metrics, reference the [Dashboard](../../dashboard.html) documentation."
   ]
  }
 ],
 "metadata": {
  "kernelspec": {
   "display_name": "Python 3 (ipykernel)",
   "language": "python",
   "name": "python3"
  },
  "language_info": {
   "codemirror_mode": {
    "name": "ipython",
    "version": 3
   },
   "file_extension": ".py",
   "mimetype": "text/x-python",
   "name": "python",
   "nbconvert_exporter": "python",
   "pygments_lexer": "ipython3",
   "version": "3.7.16"
  }
 },
 "nbformat": 4,
 "nbformat_minor": 5
}
