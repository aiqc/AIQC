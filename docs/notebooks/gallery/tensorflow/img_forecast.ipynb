{
 "cells": [
  {
   "cell_type": "markdown",
   "id": "global-sherman",
   "metadata": {},
   "source": [
    "# TensorFlow: Image Forecasting"
   ]
  },
  {
   "cell_type": "markdown",
   "id": "animated-philip",
   "metadata": {},
   "source": [
    "*Lunar Astronomy Forecasting Using a 5D Time Series of Shifting Windows.*"
   ]
  },
  {
   "cell_type": "markdown",
   "id": "adequate-personal",
   "metadata": {},
   "source": [
    "<img src=\"../../../_static/images/banner/moons.png\" class=\"banner-photo\"/>"
   ]
  },
  {
   "cell_type": "markdown",
   "id": "hungry-franchise",
   "metadata": {},
   "source": [
    "Although the pipeline runs successfully, this tutorial is considered a 'work in progress' in that the model architecture still needs a bit of work. Here we attempt an self-supervised *walk forward* with an autoencoder whose evaluation data is shifted 2 frames forward. The goal is to show an image to the model and have it infer what that image will look like 2 steps in the future."
   ]
  },
  {
   "cell_type": "markdown",
   "id": "critical-stress",
   "metadata": {},
   "source": [
    "---"
   ]
  },
  {
   "cell_type": "markdown",
   "id": "e80eb013-5aee-4d79-bfd8-a47c264b73ce",
   "metadata": {},
   "source": [
    "## 💾 Data"
   ]
  },
  {
   "cell_type": "markdown",
   "id": "57bacd42-52c3-4c1c-a9b4-7117e5b4b00f",
   "metadata": {},
   "source": [
    "Reference [Example Datasets](../../datasets.html) for more information."
   ]
  },
  {
   "cell_type": "markdown",
   "id": "119fe4e4-3779-47b8-aa74-e00154a0cccd",
   "metadata": {},
   "source": [
    "This dataset is comprised of:\n",
    "\n",
    "* *Features* = folder of images that represent a time series\n",
    "* *Target* = we will shift that time series forward 2 frames using a `window`"
   ]
  },
  {
   "cell_type": "code",
   "execution_count": 2,
   "id": "0dcdd91f-edec-4539-9a89-2d4f0955d8c5",
   "metadata": {},
   "outputs": [],
   "source": [
    "from aiqc.orm import Dataset"
   ]
  },
  {
   "cell_type": "code",
   "execution_count": 3,
   "id": "9ccbbae5-06d0-4bc2-82c3-e64784e8c86f",
   "metadata": {},
   "outputs": [
    {
     "name": "stderr",
     "output_type": "stream",
     "text": [
      "🖼️ Ingesting Images 🖼️: 100%|███████████████████████| 15/15 [00:00<00:00, 117.16it/s]\n"
     ]
    }
   ],
   "source": [
    "folder_path = 'remote_datum/image/liberty_moon/images'\n",
    "image_dataset = Dataset.Image.from_folder(folder_path=folder_path, ingest=False, retype='float64')"
   ]
  },
  {
   "cell_type": "code",
   "execution_count": 4,
   "id": "c1863e52-8898-4ee5-93d3-f6fa8405c557",
   "metadata": {},
   "outputs": [],
   "source": [
    "images_pillow = image_dataset.to_pillow(samples=[0,7,12])"
   ]
  },
  {
   "cell_type": "code",
   "execution_count": 5,
   "id": "558b7f19-ae0e-447f-a26d-d6a236adcac4",
   "metadata": {},
   "outputs": [
    {
     "data": {
      "image/png": "[encoded data removed]",
      "text/plain": [
       "<PIL.Image.Image image mode=L size=50x60 at 0x18D1C4490>"
      ]
     },
     "execution_count": 5,
     "metadata": {},
     "output_type": "execute_result"
    }
   ],
   "source": [
    "images_pillow[0]"
   ]
  },
  {
   "cell_type": "code",
   "execution_count": 6,
   "id": "0154371a-c565-4935-80ee-bd1b8c8dadf9",
   "metadata": {},
   "outputs": [
    {
     "data": {
      "image/png": "[encoded data removed]",
      "text/plain": [
       "<PIL.Image.Image image mode=L size=50x60 at 0x18D179ED0>"
      ]
     },
     "execution_count": 6,
     "metadata": {},
     "output_type": "execute_result"
    }
   ],
   "source": [
    "images_pillow[1]"
   ]
  },
  {
   "cell_type": "code",
   "execution_count": 7,
   "id": "e4001b6b-8d9a-4838-b500-7467dbaa93ca",
   "metadata": {},
   "outputs": [
    {
     "data": {
      "image/png": "[encoded data removed]",
      "text/plain": [
       "<PIL.Image.Image image mode=L size=50x60 at 0x18D1C43D0>"
      ]
     },
     "execution_count": 7,
     "metadata": {},
     "output_type": "execute_result"
    }
   ],
   "source": [
    "images_pillow[2]"
   ]
  },
  {
   "cell_type": "markdown",
   "id": "d20ae46d-8931-4af8-accc-a25a7874fbf4",
   "metadata": {},
   "source": [
    "---"
   ]
  },
  {
   "cell_type": "markdown",
   "id": "4ef78fb4-cc89-45ae-987c-5af05200225f",
   "metadata": {},
   "source": [
    "## 🚰 Pipeline"
   ]
  },
  {
   "cell_type": "markdown",
   "id": "41588813-0770-4da3-a221-6c44771c8823",
   "metadata": {},
   "source": [
    "Reference [High-Level API Docs](../../api_high_level.ipynb) for more information."
   ]
  },
  {
   "cell_type": "code",
   "execution_count": 8,
   "id": "11823a0a-ab10-47f8-9061-56d6b2f3de2e",
   "metadata": {},
   "outputs": [],
   "source": [
    "from aiqc.mlops import Pipeline, Input, Target, Stratifier\n",
    "from sklearn.preprocessing import FunctionTransformer\n",
    "from aiqc.utils.encoding import div255, mult255"
   ]
  },
  {
   "cell_type": "code",
   "execution_count": 12,
   "id": "a179660c-5999-4439-b423-df8215fc2251",
   "metadata": {},
   "outputs": [],
   "source": [
    "pipeline = Pipeline(\n",
    "    inputs = Input(\n",
    "        dataset           = image_dataset\n",
    "        , window          = Input.Window(size_window=1, size_shift=2)\n",
    "        , encoders        = Input.Encoder(FunctionTransformer(div255, inverse_func=mult255))\n",
    "        , reshape_indices = (0,3,4)#reshape for Conv1D grayscale.\n",
    "    ),\n",
    "\n",
    "    stratifier = Stratifier(size_test=0.25)\n",
    ")"
   ]
  },
  {
   "cell_type": "markdown",
   "id": "09f868cf-02a9-4082-9dd4-d84c6b25850a",
   "metadata": {},
   "source": [
    "---"
   ]
  },
  {
   "cell_type": "markdown",
   "id": "ff345866-7527-41e0-b575-40c03b15383e",
   "metadata": {},
   "source": [
    "## 🧪 Experiment"
   ]
  },
  {
   "cell_type": "markdown",
   "id": "87e7f221-301e-44f1-b024-a5fe46a04ac2",
   "metadata": {},
   "source": [
    "Reference [High-Level API Docs](../../api_high_level.ipynb) for more information."
   ]
  },
  {
   "cell_type": "code",
   "execution_count": 19,
   "id": "79e464cb-a2c3-4f22-898f-417f33f4c29f",
   "metadata": {},
   "outputs": [],
   "source": [
    "from aiqc.mlops import Experiment, Architecture, Trainer\n",
    "import tensorflow as tf\n",
    "from tensorflow.keras import layers as l"
   ]
  },
  {
   "cell_type": "code",
   "execution_count": 14,
   "id": "capable-cleanup",
   "metadata": {},
   "outputs": [],
   "source": [
    "def fn_build(features_shape, label_shape, **hp):\n",
    "    m = tf.keras.models.Sequential()\n",
    "    m.add(l.Conv1D(64*hp['multiplier'], 3, activation=hp['activation'], padding='same'))\n",
    "    m.add(l.MaxPool1D( 2, padding='same'))\n",
    "    m.add(l.Conv1D(32*hp['multiplier'], 3, activation=hp['activation'], padding='same'))\n",
    "    m.add(l.MaxPool1D( 2, padding='same'))\n",
    "    m.add(l.Conv1D(16*hp['multiplier'], 3, activation=hp['activation'], padding='same'))\n",
    "    m.add(l.MaxPool1D( 2, padding='same'))\n",
    "\n",
    "    # decoding architecture\n",
    "    m.add(l.Conv1D(16*hp['multiplier'], 3, activation=hp['activation'], padding='same'))\n",
    "    m.add(l.UpSampling1D(2))\n",
    "    m.add(l.Conv1D(32*hp['multiplier'], 3, activation=hp['activation'], padding='same'))\n",
    "    m.add(l.UpSampling1D(2))\n",
    "    m.add(l.Conv1D(64*hp['multiplier'], 3, activation=hp['activation']))\n",
    "    m.add(l.UpSampling1D(2))\n",
    "    m.add(l.Conv1D(50, 3, activation='relu', padding='same'))# removing sigmoid\n",
    "    return m"
   ]
  },
  {
   "cell_type": "code",
   "execution_count": 15,
   "id": "instant-sharp",
   "metadata": {},
   "outputs": [],
   "source": [
    "def fn_train(\n",
    "    model, loser, optimizer,\n",
    "    train_features, train_label,\n",
    "    eval_features, eval_label,\n",
    "    **hp\n",
    "):\n",
    "    model.compile(\n",
    "        optimizer = optimizer\n",
    "        , loss    = loser\n",
    "        , metrics = ['mean_squared_error']\n",
    "    )\n",
    "\n",
    "    model.fit(\n",
    "        train_features, train_label\n",
    "        , validation_data = (eval_features, eval_label)\n",
    "        , verbose         = 0\n",
    "        , batch_size      = hp['batch_size']\n",
    "        , callbacks       = [tf.keras.callbacks.History()]\n",
    "        , epochs          = hp['epoch_count']\n",
    "    )\n",
    "    return model"
   ]
  },
  {
   "cell_type": "code",
   "execution_count": 16,
   "id": "considerable-hudson",
   "metadata": {},
   "outputs": [],
   "source": [
    "hyperparameters = dict(\n",
    "    epoch_count  = [150]\n",
    "    , batch_size = [1]\n",
    "    , cnn_init   = ['he_normal']\n",
    "    , activation = ['relu']\n",
    "    , multiplier = [3]\n",
    ")"
   ]
  },
  {
   "cell_type": "code",
   "execution_count": 20,
   "id": "722597a3-f760-45fa-a8ad-12abe0bc0f1f",
   "metadata": {},
   "outputs": [],
   "source": [
    "experiment = Experiment(\n",
    "    Architecture(\n",
    "        library           = \"keras\"\n",
    "        , analysis_type   = \"regression\"\n",
    "        , fn_build        = fn_build\n",
    "        , fn_train        = fn_train\n",
    "        , hyperparameters = hyperparameters\n",
    "    ),\n",
    "    \n",
    "    Trainer(\n",
    "        pipeline     = pipeline,\n",
    "        repeat_count = 1\n",
    "    )\n",
    ")"
   ]
  },
  {
   "cell_type": "code",
   "execution_count": 21,
   "id": "enclosed-divorce",
   "metadata": {},
   "outputs": [
    {
     "name": "stderr",
     "output_type": "stream",
     "text": [
      "📦 Caching Splits 📦: 100%|██████████████████████████████████████████| 2/2 [00:00<00:00, 320.73it/s]\n",
      "🔮 Training Models 🔮: 100%|██████████████████████████████████████████| 1/1 [00:08<00:00,  8.66s/it]\n"
     ]
    }
   ],
   "source": [
    "experiment.run_jobs()"
   ]
  },
  {
   "cell_type": "markdown",
   "id": "international-canberra",
   "metadata": {},
   "source": [
    "---"
   ]
  },
  {
   "cell_type": "markdown",
   "id": "84719e0f-4870-403d-9151-93fcc721ea98",
   "metadata": {},
   "source": [
    "## 📊 Visualization & Interpretation"
   ]
  },
  {
   "cell_type": "markdown",
   "id": "2c7ed7ef-96ff-45c7-9cb6-851d65754938",
   "metadata": {},
   "source": [
    "For more information on visualization of performance metrics, reference the [Dashboard](../../dashboard.html) documentation."
   ]
  }
 ],
 "metadata": {
  "kernelspec": {
   "display_name": "Python 3 (ipykernel)",
   "language": "python",
   "name": "python3"
  },
  "language_info": {
   "codemirror_mode": {
    "name": "ipython",
    "version": 3
   },
   "file_extension": ".py",
   "mimetype": "text/x-python",
   "name": "python",
   "nbconvert_exporter": "python",
   "pygments_lexer": "ipython3",
   "version": "3.7.16"
  }
 },
 "nbformat": 4,
 "nbformat_minor": 5
}
