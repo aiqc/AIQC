{
 "cells": [
  {
   "cell_type": "markdown",
   "metadata": {},
   "source": [
    "# PyTorch: Image Classify Binary"
   ]
  },
  {
   "cell_type": "markdown",
   "metadata": {},
   "source": [
    "*Brain Tumor Detection via Binary Classification of Magnetic Resonance Imaging (MRI) Scans*"
   ]
  },
  {
   "cell_type": "markdown",
   "metadata": {},
   "source": [
    "<img src=\"../../../_static/images/banner/brains.png\" class=\"banner-photo\"/>"
   ]
  },
  {
   "cell_type": "markdown",
   "metadata": {},
   "source": [
    "## Example Data"
   ]
  },
  {
   "cell_type": "markdown",
   "metadata": {},
   "source": [
    "Reference [Example Datasets](../../datasets.html) for more information."
   ]
  },
  {
   "cell_type": "markdown",
   "metadata": {},
   "source": [
    "This dataset is comprised of:\n",
    "\n",
    "* *Features* = folder of magnetic resonance imaging (MRI) of brain samples.\n",
    "* *Labels* = tabular data denoting the presence of a tumor."
   ]
  },
  {
   "cell_type": "code",
   "execution_count": 3,
   "metadata": {},
   "outputs": [],
   "source": [
    "from aiqc import datum\n",
    "from aiqc.orm import Dataset"
   ]
  },
  {
   "cell_type": "code",
   "execution_count": 4,
   "metadata": {},
   "outputs": [],
   "source": [
    "df = datum.to_df('brain_tumor.csv')\n",
    "dataset_label = Dataset.Tabular.from_df(df)"
   ]
  },
  {
   "cell_type": "code",
   "execution_count": 5,
   "metadata": {},
   "outputs": [
    {
     "data": {
      "text/html": [
       "<div>\n",
       "<style scoped>\n",
       "    .dataframe tbody tr th:only-of-type {\n",
       "        vertical-align: middle;\n",
       "    }\n",
       "\n",
       "    .dataframe tbody tr th {\n",
       "        vertical-align: top;\n",
       "    }\n",
       "\n",
       "    .dataframe thead th {\n",
       "        text-align: right;\n",
       "    }\n",
       "</style>\n",
       "<table border=\"1\" class=\"dataframe\">\n",
       "  <thead>\n",
       "    <tr style=\"text-align: right;\">\n",
       "      <th></th>\n",
       "      <th>status</th>\n",
       "      <th>size</th>\n",
       "      <th>count</th>\n",
       "      <th>symmetry</th>\n",
       "      <th>url</th>\n",
       "    </tr>\n",
       "  </thead>\n",
       "  <tbody>\n",
       "    <tr>\n",
       "      <th>0</th>\n",
       "      <td>0</td>\n",
       "      <td>0</td>\n",
       "      <td>0</td>\n",
       "      <td>None</td>\n",
       "      <td>https://raw.githubusercontent.com/aiqc/aiqc/ma...</td>\n",
       "    </tr>\n",
       "    <tr>\n",
       "      <th>1</th>\n",
       "      <td>0</td>\n",
       "      <td>0</td>\n",
       "      <td>0</td>\n",
       "      <td>None</td>\n",
       "      <td>https://raw.githubusercontent.com/aiqc/aiqc/ma...</td>\n",
       "    </tr>\n",
       "    <tr>\n",
       "      <th>2</th>\n",
       "      <td>0</td>\n",
       "      <td>0</td>\n",
       "      <td>0</td>\n",
       "      <td>None</td>\n",
       "      <td>https://raw.githubusercontent.com/aiqc/aiqc/ma...</td>\n",
       "    </tr>\n",
       "  </tbody>\n",
       "</table>\n",
       "</div>"
      ],
      "text/plain": [
       "   status  size  count symmetry  \\\n",
       "0       0     0      0     None   \n",
       "1       0     0      0     None   \n",
       "2       0     0      0     None   \n",
       "\n",
       "                                                 url  \n",
       "0  https://raw.githubusercontent.com/aiqc/aiqc/ma...  \n",
       "1  https://raw.githubusercontent.com/aiqc/aiqc/ma...  \n",
       "2  https://raw.githubusercontent.com/aiqc/aiqc/ma...  "
      ]
     },
     "execution_count": 5,
     "metadata": {},
     "output_type": "execute_result"
    }
   ],
   "source": [
    "dataset_label.to_df().head(3)"
   ]
  },
  {
   "cell_type": "code",
   "execution_count": 6,
   "metadata": {},
   "outputs": [
    {
     "name": "stderr",
     "output_type": "stream",
     "text": [
      "🖼️ Ingesting Images 🖼️: 100%|████████████████████████| 80/80 [00:14<00:00,  5.59it/s]\n"
     ]
    }
   ],
   "source": [
    "urls = datum.get_remote_urls(manifest_name='brain_tumor.csv')\n",
    "dataset_img = Dataset.Image.from_urls_pillow(urls)"
   ]
  },
  {
   "cell_type": "code",
   "execution_count": 7,
   "metadata": {},
   "outputs": [],
   "source": [
    "images_pillow = dataset_img.to_pillow(samples=[6,47])"
   ]
  },
  {
   "cell_type": "code",
   "execution_count": 8,
   "metadata": {
    "tags": []
   },
   "outputs": [
    {
     "data": {
      "image/png": "[encoded data removed]",
      "text/plain": [
       "<PIL.Image.Image image mode=L size=120x160 at 0x184420E50>"
      ]
     },
     "execution_count": 8,
     "metadata": {},
     "output_type": "execute_result"
    }
   ],
   "source": [
    "images_pillow[0]"
   ]
  },
  {
   "cell_type": "code",
   "execution_count": 9,
   "metadata": {},
   "outputs": [
    {
     "data": {
      "image/png": "[encoded data removed]",
      "text/plain": [
       "<PIL.Image.Image image mode=L size=120x160 at 0x184422B50>"
      ]
     },
     "execution_count": 9,
     "metadata": {},
     "output_type": "execute_result"
    }
   ],
   "source": [
    "images_pillow[1]"
   ]
  },
  {
   "cell_type": "markdown",
   "metadata": {},
   "source": [
    "---"
   ]
  },
  {
   "cell_type": "markdown",
   "metadata": {},
   "source": [
    "## Pipeline"
   ]
  },
  {
   "cell_type": "markdown",
   "metadata": {},
   "source": [
    "Reference [High-Level API Docs](../../api_high_level.ipynb) for more information."
   ]
  },
  {
   "cell_type": "code",
   "execution_count": 10,
   "metadata": {},
   "outputs": [],
   "source": [
    "from aiqc.mlops import Pipeline, Input, Target, Stratifier\n",
    "from sklearn.preprocessing import FunctionTransformer\n",
    "from aiqc.utils.encoding import div255, mult255"
   ]
  },
  {
   "cell_type": "code",
   "execution_count": 11,
   "metadata": {},
   "outputs": [],
   "source": [
    "pipeline = Pipeline(\n",
    "    Input(\n",
    "        dataset         = dataset_img,\n",
    "        encoders        = Input.Encoder(FunctionTransformer(div255, inverse_func=mult255)),\n",
    "        reshape_indices = (0,2,3)#reshape for Conv1D grayscale.\n",
    "    ),\n",
    "        \n",
    "    Target(\n",
    "        dataset = dataset_label,\n",
    "        column  = 'status'\n",
    "    ),\n",
    "\n",
    "    Stratifier(\n",
    "        size_test       = 0.14,\n",
    "        size_validation = 0.22\n",
    "    )\n",
    ")"
   ]
  },
  {
   "cell_type": "markdown",
   "metadata": {},
   "source": [
    "---"
   ]
  },
  {
   "cell_type": "markdown",
   "metadata": {},
   "source": [
    "## Modeling"
   ]
  },
  {
   "cell_type": "markdown",
   "metadata": {},
   "source": [
    "Reference [High-Level API Docs](../../api_high_level.ipynb) for more information."
   ]
  },
  {
   "cell_type": "code",
   "execution_count": 12,
   "metadata": {},
   "outputs": [],
   "source": [
    "from aiqc.mlops import Experiment, Architecture, Trainer\n",
    "import torch.nn as nn\n",
    "import torchmetrics as tm\n",
    "from aiqc.utils.pytorch import fit"
   ]
  },
  {
   "cell_type": "code",
   "execution_count": 13,
   "metadata": {},
   "outputs": [],
   "source": [
    "def fn_build(features_shape, label_shape, **hp):\n",
    "    model = nn.Sequential(\n",
    "        nn.Conv1d(\n",
    "            in_channels=features_shape[0], out_channels=hp['filters']*4,\n",
    "            kernel_size=hp['kernel_size'], padding='same'\n",
    "        )\n",
    "        , nn.ReLU() #wasnt learning with tanh\n",
    "        , nn.MaxPool1d(kernel_size=2)\n",
    "        , nn.Dropout(p=0.4)\n",
    "\n",
    "        , nn.Conv1d(\n",
    "            in_channels=hp['filters']*4, out_channels=hp['filters']*3,\n",
    "            kernel_size=hp['kernel_size'], padding='same'\n",
    "        )\n",
    "        , nn.ReLU() #wasnt learning with tanh\n",
    "        , nn.MaxPool1d(kernel_size=2)\n",
    "        , nn.Dropout(p=0.4)\n",
    "        \n",
    "        , nn.Conv1d(\n",
    "            in_channels=hp['filters']*3, out_channels=hp['filters']*2,\n",
    "            kernel_size=hp['kernel_size'], padding='same'\n",
    "        )\n",
    "        , nn.ReLU() #wasnt learning with tanh\n",
    "        , nn.MaxPool1d(kernel_size=2)\n",
    "        , nn.Dropout(p=0.4)\n",
    "        \n",
    "        \n",
    "        , nn.Flatten()\n",
    "        , nn.Linear(720,32)#in,out\n",
    "        , nn.BatchNorm1d(32,32)\n",
    "        , nn.ReLU()\n",
    "        , nn.Dropout(p=0.4)\n",
    "\n",
    "        , nn.Linear(32,label_shape[0])\n",
    "        , nn.Sigmoid()\n",
    "    )\n",
    "    return model"
   ]
  },
  {
   "cell_type": "code",
   "execution_count": 14,
   "metadata": {},
   "outputs": [],
   "source": [
    "def fn_train(\n",
    "    model, loser, optimizer,\n",
    "    train_features, train_label,\n",
    "    eval_features, eval_label,\n",
    "    **hp\n",
    "):\n",
    "    model = fit(\n",
    "        model, loser, optimizer, \n",
    "        train_features, train_label,\n",
    "        eval_features, eval_label\n",
    "        , epochs     = hp['epochs']\n",
    "        , batch_size = hp['batch_size']\n",
    "        , metrics    = [tm.Accuracy(), tm.F1Score()]\n",
    "    )\n",
    "    return model"
   ]
  },
  {
   "cell_type": "code",
   "execution_count": 15,
   "metadata": {},
   "outputs": [],
   "source": [
    "hyperparameters = dict(\n",
    "    filters       = [24]\n",
    "    , kernel_size = [5,8]\n",
    "    , epochs      = [50]\n",
    "    , batch_size  = [5]\n",
    ")"
   ]
  },
  {
   "cell_type": "code",
   "execution_count": 18,
   "metadata": {},
   "outputs": [],
   "source": [
    "experiment = Experiment(\n",
    "    Architecture(\n",
    "        library           = \"pytorch\"\n",
    "        , analysis_type   = \"classification_binary\"\n",
    "        , fn_build        = fn_build\n",
    "        , fn_train        = fn_train\n",
    "        , hyperparameters = hyperparameters\n",
    "    ),\n",
    "    \n",
    "    Trainer(pipeline=pipeline, repeat_count=2)\n",
    ")"
   ]
  },
  {
   "cell_type": "code",
   "execution_count": 19,
   "metadata": {},
   "outputs": [
    {
     "name": "stderr",
     "output_type": "stream",
     "text": [
      "🔮 Training Models 🔮:  25%|██████████▌                               | 1/4 [00:09<00:28,  9.51s/it]/Users/layne/.pyenv/versions/3.7.12/envs/aiqc_dev/lib/python3.7/site-packages/torch/nn/modules/conv.py:298: UserWarning: Using padding='same' with even kernel lengths and odd dilation may require a zero-padded copy of the input be created (Triggered internally at  ../aten/src/ATen/native/Convolution.cpp:647.)\n",
      "  self.padding, self.dilation, self.groups)\n",
      "🔮 Training Models 🔮: 100%|██████████████████████████████████████████| 4/4 [00:40<00:00, 10.08s/it]\n"
     ]
    }
   ],
   "source": [
    "experiment.run_jobs()"
   ]
  },
  {
   "cell_type": "markdown",
   "metadata": {},
   "source": [
    "---"
   ]
  },
  {
   "cell_type": "markdown",
   "metadata": {},
   "source": [
    "## Visualization & Interpretation"
   ]
  },
  {
   "cell_type": "markdown",
   "metadata": {},
   "source": [
    "For more information on visualization of performance metrics, reference the [Dashboard](../../dashboard.html) documentation."
   ]
  }
 ],
 "metadata": {
  "kernelspec": {
   "display_name": "Python 3 (ipykernel)",
   "language": "python",
   "name": "python3"
  },
  "language_info": {
   "codemirror_mode": {
    "name": "ipython",
    "version": 3
   },
   "file_extension": ".py",
   "mimetype": "text/x-python",
   "name": "python",
   "nbconvert_exporter": "python",
   "pygments_lexer": "ipython3",
   "version": "3.7.16"
  }
 },
 "nbformat": 4,
 "nbformat_minor": 4
}
